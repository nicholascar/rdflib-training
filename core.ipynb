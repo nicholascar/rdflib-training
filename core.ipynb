{
 "cells": [
  {
   "cell_type": "markdown",
   "metadata": {
    "collapsed": true,
    "pycharm": {
     "name": "#%% md\n"
    }
   },
   "source": [
    "# RDFlib Core\n",
    "### A notebook demonstrating basic core functionality of the RDFlib toolkit\n",
    "\n",
    "1. Import the main rdflib class, Graph"
   ]
  },
  {
   "cell_type": "code",
   "execution_count": 2,
   "outputs": [],
   "source": [
    "from rdflib import Graph"
   ],
   "metadata": {
    "collapsed": false,
    "pycharm": {
     "name": "#%%\n"
    }
   }
  },
  {
   "cell_type": "markdown",
   "source": [
    "2. Create and load the graph from an RDF file"
   ],
   "metadata": {
    "collapsed": false
   }
  },
  {
   "cell_type": "code",
   "execution_count": 3,
   "outputs": [
    {
     "name": "stdout",
     "output_type": "stream",
     "text": [
      "180\n"
     ]
    }
   ],
   "source": [
    "g = Graph()\n",
    "g.parse(\"data/bdm.ttl\", format=\"turtle\")\n",
    "# print the number of triples in the graph - graph length\n",
    "print(len(g))"
   ],
   "metadata": {
    "collapsed": false,
    "pycharm": {
     "name": "#%%\n"
    }
   }
  },
  {
   "cell_type": "markdown",
   "source": [
    "3. Loop through graph, printing the subjects of all triples"
   ],
   "metadata": {
    "collapsed": false
   }
  },
  {
   "cell_type": "code",
   "execution_count": 5,
   "outputs": [
    {
     "name": "stdout",
     "output_type": "stream",
     "text": [
      "http://linked.data.gov.au/def/borehole-drilling-method/piston-core\n",
      "http://linked.data.gov.au/def/borehole-drilling-method\n",
      "http://linked.data.gov.au/def/borehole-drilling-method/core-drilling\n",
      "http://linked.data.gov.au/def/borehole-drilling-method\n",
      "http://linked.data.gov.au/def/borehole-drilling-method/mackereth-core\n",
      "http://linked.data.gov.au/def/borehole-drilling-method/piston-core\n",
      "http://linked.data.gov.au/def/borehole-drilling-method/box-core\n",
      "http://linked.data.gov.au/def/borehole-drilling-method/probe\n",
      "http://linked.data.gov.au/def/borehole-drilling-method/hydraulic-rotary-drilling\n",
      "http://linked.data.gov.au/def/borehole-drilling-method\n",
      "http://linked.data.gov.au/def/borehole-drilling-method/probe\n",
      "http://linked.data.gov.au/def/borehole-drilling-method/rab-drilling\n",
      "http://linked.data.gov.au/def/borehole-drilling-method/hydraulic-rotary-drilling\n",
      "http://linked.data.gov.au/def/borehole-drilling-method/rab-drilling\n",
      "http://linked.data.gov.au/def/borehole-drilling-method/auger\n",
      "http://linked.data.gov.au/def/borehole-drilling-method/sidewall-core-mechanical\n",
      "http://linked.data.gov.au/def/borehole-drilling-method/cable-tool-drilling\n",
      "http://linked.data.gov.au/def/borehole-drilling-method\n",
      "http://linked.data.gov.au/def/borehole-drilling-method/conventional-core\n",
      "http://linked.data.gov.au/def/borehole-drilling-method/percussion-drilling\n",
      "http://linked.data.gov.au/def/borehole-drilling-method/gravity-core\n",
      "http://linked.data.gov.au/def/borehole-drilling-method/box-core\n",
      "http://linked.data.gov.au/def/borehole-drilling-method/direct-push\n",
      "http://linked.data.gov.au/def/borehole-drilling-method/conventional-core\n",
      "http://linked.data.gov.au/def/borehole-drilling-method/conventional-core\n",
      "http://linked.data.gov.au/def/borehole-drilling-method/mackereth-core\n",
      "http://linked.data.gov.au/def/borehole-drilling-method/hand-auger\n",
      "http://linked.data.gov.au/def/borehole-drilling-method/vibrocore\n",
      "http://linked.data.gov.au/def/borehole-drilling-method/sidewall-core\n",
      "http://linked.data.gov.au/def/borehole-drilling-method/cone-penetrometer-test-probe\n",
      "http://linked.data.gov.au/def/borehole-drilling-method/auger\n",
      "http://linked.data.gov.au/def/borehole-drilling-method\n",
      "http://linked.data.gov.au/def/borehole-drilling-method/reverse-circulation-drilling\n",
      "http://linked.data.gov.au/def/borehole-drilling-method/mackereth-core\n",
      "http://linked.data.gov.au/def/borehole-drilling-method/percussion-drilling\n",
      "http://linked.data.gov.au/def/borehole-drilling-method/geoprobe-core\n",
      "http://linked.data.gov.au/def/borehole-drilling-method/cone-penetrometer-test-probe\n",
      "http://linked.data.gov.au/def/borehole-drilling-method/mackintosh-probe\n",
      "http://linked.data.gov.au/def/borehole-drilling-method/vibrocore\n",
      "http://linked.data.gov.au/def/borehole-drilling-method/sonic\n",
      "http://linked.data.gov.au/def/borehole-drilling-method/power-auger\n",
      "http://linked.data.gov.au/def/borehole-drilling-method/sidewall-core-mechanical\n",
      "http://linked.data.gov.au/def/borehole-drilling-method/cable-tool-drilling\n",
      "http://linked.data.gov.au/def/borehole-drilling-method/rotary-hammer-drilling\n",
      "http://linked.data.gov.au/def/borehole-drilling-method/delft-sampler\n",
      "http://linked.data.gov.au/def/borehole-drilling-method\n",
      "http://linked.data.gov.au/def/borehole-drilling-method/window-sampler\n",
      "http://linked.data.gov.au/def/borehole-drilling-method/box-core\n",
      "http://linked.data.gov.au/def/borehole-drilling-method/cable-tool-drilling\n",
      "http://linked.data.gov.au/def/borehole-drilling-method/air-core\n",
      "http://linked.data.gov.au/def/borehole-drilling-method/vibrocore\n",
      "http://linked.data.gov.au/def/borehole-drilling-method/window-sampler\n",
      "http://linked.data.gov.au/def/borehole-drilling-method\n",
      "http://linked.data.gov.au/def/borehole-drilling-method/direct-push\n",
      "http://linked.data.gov.au/def/borehole-drilling-method\n",
      "http://linked.data.gov.au/def/borehole-drilling-method/direct-push\n",
      "http://linked.data.gov.au/def/borehole-drilling-method/mackintosh-probe\n",
      "http://linked.data.gov.au/def/borehole-drilling-method/cable-tool-drilling\n",
      "http://linked.data.gov.au/def/borehole-drilling-method/air-core\n",
      "http://linked.data.gov.au/def/borehole-drilling-method/box-core\n",
      "http://linked.data.gov.au/def/borehole-drilling-method/hand-auger\n",
      "http://linked.data.gov.au/def/borehole-drilling-method/sonic\n",
      "http://linked.data.gov.au/def/borehole-drilling-method\n",
      "http://linked.data.gov.au/def/borehole-drilling-method/reverse-circulation-drilling\n",
      "http://linked.data.gov.au/def/borehole-drilling-method/gravity-core\n",
      "http://linked.data.gov.au/def/borehole-drilling-method/sidewall-core\n",
      "http://linked.data.gov.au/def/borehole-drilling-method/sidewall-core\n",
      "http://linked.data.gov.au/def/borehole-drilling-method/air-core\n",
      "http://linked.data.gov.au/def/borehole-drilling-method/sidewall-core-mechanical\n",
      "http://linked.data.gov.au/def/borehole-drilling-method/percussion-drilling\n",
      "http://linked.data.gov.au/def/borehole-drilling-method/sidewall-core-bullet\n",
      "http://linked.data.gov.au/def/borehole-drilling-method\n",
      "http://linked.data.gov.au/def/borehole-drilling-method/conventional-core\n",
      "http://linked.data.gov.au/def/borehole-drilling-method/sidewall-core\n",
      "http://linked.data.gov.au/def/borehole-drilling-method/piston-core\n",
      "http://linked.data.gov.au/def/borehole-drilling-method/sidewall-core\n",
      "http://linked.data.gov.au/def/borehole-drilling-method/sidewall-core\n",
      "http://linked.data.gov.au/def/borehole-drilling-method/rab-drilling\n",
      "http://linked.data.gov.au/def/borehole-drilling-method/diamond-core\n",
      "http://linked.data.gov.au/def/borehole-drilling-method/cable-tool-drilling\n",
      "http://linked.data.gov.au/def/borehole-drilling-method/mackintosh-probe\n",
      "http://linked.data.gov.au/def/borehole-drilling-method/air-core\n",
      "http://linked.data.gov.au/def/borehole-drilling-method/geoprobe-core\n",
      "http://linked.data.gov.au/def/borehole-drilling-method/mackereth-core\n",
      "http://linked.data.gov.au/def/borehole-drilling-method\n",
      "http://linked.data.gov.au/def/borehole-drilling-method/cone-penetrometer-test-probe\n",
      "http://linked.data.gov.au/def/borehole-drilling-method/geoprobe-core\n",
      "http://linked.data.gov.au/def/borehole-drilling-method/diamond-core\n",
      "http://linked.data.gov.au/def/borehole-drilling-method/mackintosh-probe\n",
      "http://linked.data.gov.au/def/borehole-drilling-method/core-drilling\n",
      "http://linked.data.gov.au/def/borehole-drilling-method/reverse-circulation-drilling\n",
      "http://linked.data.gov.au/def/borehole-drilling-method/core-drilling\n",
      "http://linked.data.gov.au/org/gsq\n",
      "http://linked.data.gov.au/def/borehole-drilling-method/sidewall-core-mechanical\n",
      "http://linked.data.gov.au/def/borehole-drilling-method/delft-sampler\n",
      "http://linked.data.gov.au/def/borehole-drilling-method/percussion-drilling\n",
      "http://linked.data.gov.au/def/borehole-drilling-method/direct-push\n",
      "http://linked.data.gov.au/def/borehole-drilling-method/cone-penetrometer-test-probe\n",
      "http://linked.data.gov.au/def/borehole-drilling-method/core-drilling\n",
      "http://linked.data.gov.au/def/borehole-drilling-method/gravity-core\n",
      "http://linked.data.gov.au/org/gsq\n",
      "http://linked.data.gov.au/def/borehole-drilling-method/kastern-core\n",
      "http://linked.data.gov.au/def/borehole-drilling-method/gravity-core\n",
      "http://linked.data.gov.au/def/borehole-drilling-method/sidewall-core-bullet\n",
      "http://linked.data.gov.au/def/borehole-drilling-method\n",
      "http://linked.data.gov.au/def/borehole-drilling-method/air-core\n",
      "http://linked.data.gov.au/def/borehole-drilling-method/kastern-core\n",
      "http://linked.data.gov.au/def/borehole-drilling-method/auger\n",
      "http://linked.data.gov.au/def/borehole-drilling-method/rotary-hammer-drilling\n",
      "http://linked.data.gov.au/def/borehole-drilling-method/sidewall-core-mechanical\n",
      "http://linked.data.gov.au/def/borehole-drilling-method/box-core\n",
      "http://linked.data.gov.au/def/borehole-drilling-method/probe\n",
      "http://linked.data.gov.au/def/borehole-drilling-method/diamond-core\n",
      "http://linked.data.gov.au/def/borehole-drilling-method/auger\n",
      "http://linked.data.gov.au/def/borehole-drilling-method/hydraulic-rotary-drilling\n",
      "http://linked.data.gov.au/def/borehole-drilling-method/sidewall-core-bullet\n",
      "http://linked.data.gov.au/def/borehole-drilling-method/vibrocore\n",
      "http://linked.data.gov.au/def/borehole-drilling-method/delft-sampler\n",
      "http://linked.data.gov.au/def/borehole-drilling-method/rotary-hammer-drilling\n",
      "http://linked.data.gov.au/def/borehole-drilling-method/sonic\n",
      "http://linked.data.gov.au/def/borehole-drilling-method/probe\n",
      "http://linked.data.gov.au/def/borehole-drilling-method\n",
      "http://linked.data.gov.au/def/borehole-drilling-method/core-drilling\n",
      "http://linked.data.gov.au/def/borehole-drilling-method/delft-sampler\n",
      "http://linked.data.gov.au/def/borehole-drilling-method/power-auger\n",
      "http://linked.data.gov.au/def/borehole-drilling-method/sonic\n",
      "http://linked.data.gov.au/def/borehole-drilling-method/hand-auger\n",
      "http://linked.data.gov.au/def/borehole-drilling-method/probe\n",
      "http://linked.data.gov.au/def/borehole-drilling-method\n",
      "http://linked.data.gov.au/def/borehole-drilling-method/air-core\n",
      "http://linked.data.gov.au/def/borehole-drilling-method/gravity-core\n",
      "http://linked.data.gov.au/def/borehole-drilling-method/reverse-circulation-drilling\n",
      "http://linked.data.gov.au/def/borehole-drilling-method/rab-drilling\n",
      "http://linked.data.gov.au/def/borehole-drilling-method/geoprobe-core\n",
      "http://linked.data.gov.au/def/borehole-drilling-method/rab-drilling\n",
      "http://linked.data.gov.au/def/borehole-drilling-method/vibrocore\n",
      "http://linked.data.gov.au/def/borehole-drilling-method/piston-core\n",
      "http://linked.data.gov.au/def/borehole-drilling-method/rotary-hammer-drilling\n",
      "http://linked.data.gov.au/def/borehole-drilling-method/hydraulic-rotary-drilling\n",
      "http://linked.data.gov.au/org/gsq\n",
      "http://linked.data.gov.au/def/borehole-drilling-method/hydraulic-rotary-drilling\n",
      "http://linked.data.gov.au/def/borehole-drilling-method/geoprobe-core\n",
      "http://linked.data.gov.au/def/borehole-drilling-method/auger\n",
      "http://linked.data.gov.au/def/borehole-drilling-method/hand-auger\n",
      "http://linked.data.gov.au/def/borehole-drilling-method/auger\n",
      "http://linked.data.gov.au/def/borehole-drilling-method/box-core\n",
      "http://linked.data.gov.au/def/borehole-drilling-method\n",
      "http://linked.data.gov.au/def/borehole-drilling-method/power-auger\n",
      "http://linked.data.gov.au/def/borehole-drilling-method/piston-core\n",
      "http://linked.data.gov.au/def/borehole-drilling-method/hand-auger\n",
      "http://linked.data.gov.au/def/borehole-drilling-method/reverse-circulation-drilling\n",
      "http://linked.data.gov.au/def/borehole-drilling-method/sidewall-core-bullet\n",
      "http://linked.data.gov.au/def/borehole-drilling-method/window-sampler\n",
      "http://linked.data.gov.au/def/borehole-drilling-method/diamond-core\n",
      "http://linked.data.gov.au/def/borehole-drilling-method/core-drilling\n",
      "http://linked.data.gov.au/def/borehole-drilling-method/power-auger\n",
      "http://linked.data.gov.au/def/borehole-drilling-method/kastern-core\n",
      "http://linked.data.gov.au/def/borehole-drilling-method/kastern-core\n",
      "http://linked.data.gov.au/def/borehole-drilling-method/hydraulic-rotary-drilling\n",
      "http://linked.data.gov.au/def/borehole-drilling-method/window-sampler\n",
      "http://linked.data.gov.au/def/borehole-drilling-method/sonic\n",
      "http://linked.data.gov.au/def/borehole-drilling-method/window-sampler\n",
      "http://linked.data.gov.au/def/borehole-drilling-method/delft-sampler\n",
      "http://linked.data.gov.au/def/borehole-drilling-method/sidewall-core-bullet\n",
      "http://linked.data.gov.au/def/borehole-drilling-method/sonic\n",
      "http://linked.data.gov.au/def/borehole-drilling-method/direct-push\n",
      "http://linked.data.gov.au/def/borehole-drilling-method/percussion-drilling\n",
      "http://linked.data.gov.au/def/borehole-drilling-method\n",
      "http://linked.data.gov.au/def/borehole-drilling-method/power-auger\n",
      "http://linked.data.gov.au/def/borehole-drilling-method/diamond-core\n",
      "http://linked.data.gov.au/def/borehole-drilling-method/percussion-drilling\n",
      "http://linked.data.gov.au/def/borehole-drilling-method/mackereth-core\n",
      "http://linked.data.gov.au/def/borehole-drilling-method/mackintosh-probe\n",
      "http://linked.data.gov.au/def/borehole-drilling-method/probe\n",
      "http://linked.data.gov.au/def/borehole-drilling-method/kastern-core\n",
      "http://linked.data.gov.au/def/borehole-drilling-method\n",
      "http://linked.data.gov.au/def/borehole-drilling-method\n",
      "http://linked.data.gov.au/def/borehole-drilling-method/cone-penetrometer-test-probe\n",
      "http://linked.data.gov.au/def/borehole-drilling-method/conventional-core\n",
      "http://linked.data.gov.au/def/borehole-drilling-method/rotary-hammer-drilling\n"
     ]
    }
   ],
   "source": [
    "for s, p, o in g.triples((None, None, None)):\n",
    "    print(s)"
   ],
   "metadata": {
    "collapsed": false,
    "pycharm": {
     "name": "#%%\n"
    }
   }
  }
 ],
 "metadata": {
  "kernelspec": {
   "display_name": "Python 3",
   "language": "python",
   "name": "python3"
  },
  "language_info": {
   "codemirror_mode": {
    "name": "ipython",
    "version": 2
   },
   "file_extension": ".py",
   "mimetype": "text/x-python",
   "name": "python",
   "nbconvert_exporter": "python",
   "pygments_lexer": "ipython2",
   "version": "2.7.6"
  }
 },
 "nbformat": 4,
 "nbformat_minor": 0
}