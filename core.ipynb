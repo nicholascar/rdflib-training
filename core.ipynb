{
 "cells": [
  {
   "cell_type": "markdown",
   "metadata": {},
   "source": [
    "# RDFlib Core\n",
    "### A notebook demonstrating basic core functionality of the RDFlib toolkit\n",
    "\n",
    "Parts:\n",
    "\n",
    "A. Loading & Serializing\n",
    "B. Native RDFlib accessing of graph data\n",
    "C. SPARQL querying graphs\n",
    "D. Namespaces\n",
    "E. Creating data\n",
    "F. Merging graphs\n",
    "\n",
    "\n",
    "## A. Loading & Serializing\n",
    "A.1. Import the main rdflib class, Graph"
   ]
  },
  {
   "cell_type": "code",
   "execution_count": 54,
   "metadata": {
    "pycharm": {
     "name": "#%%\n"
    }
   },
   "outputs": [],
   "source": [
    "from rdflib import Graph"
   ]
  },
  {
   "cell_type": "markdown",
   "metadata": {},
   "source": [
    "A.2. Create and load the graph from an RDF file"
   ]
  },
  {
   "cell_type": "code",
   "execution_count": 55,
   "metadata": {
    "pycharm": {
     "name": "#%%\n"
    }
   },
   "outputs": [
    {
     "data": {
      "text/plain": [
       "<Graph identifier=Nda59456b2f844730abec20f1e7242663 (<class 'rdflib.graph.Graph'>)>"
      ]
     },
     "execution_count": 55,
     "metadata": {},
     "output_type": "execute_result"
    }
   ],
   "source": [
    "g = Graph()\n",
    "g.parse(\"data/bdm.ttl\", format=\"turtle\")"
   ]
  },
  {
   "cell_type": "markdown",
   "metadata": {
    "pycharm": {
     "name": "#%% md\n"
    }
   },
   "source": [
    "A.3. Print the number of triples in the graph - graph length - to confirm load"
   ]
  },
  {
   "cell_type": "code",
   "execution_count": 56,
   "metadata": {
    "pycharm": {
     "name": "#%%\n"
    }
   },
   "outputs": [
    {
     "name": "stdout",
     "output_type": "stream",
     "text": [
      "180\n"
     ]
    }
   ],
   "source": [
    "print(len(g))"
   ]
  },
  {
   "cell_type": "markdown",
   "source": [
    "A.4. Load data from the web\n",
    "The RDF format is known from the Media Type returned in the HTTP headers"
   ],
   "metadata": {
    "collapsed": false
   }
  },
  {
   "cell_type": "code",
   "execution_count": null,
   "outputs": [],
   "source": [
    "g2 = Graph()\n",
    "g2.parse(location=\"http://pid.geoscience.gov.au/sample/AU1000005?_view=igsn-o&_format=text/turtle\")\n",
    "print(g2.serialize(format=\"turtle\").decode())"
   ],
   "metadata": {
    "collapsed": false,
    "pycharm": {
     "name": "#%%\n"
    }
   }
  },
  {
   "cell_type": "markdown",
   "metadata": {},
   "source": [
    "A.5. Serialize the in-memory graph using another RDF format (XML)"
   ]
  },
  {
   "cell_type": "code",
   "execution_count": 57,
   "metadata": {
    "pycharm": {
     "name": "#%%\n"
    }
   },
   "outputs": [],
   "source": [
    "g.serialize(\"data/bdm.rdf\", format=\"xml\")"
   ]
  },
  {
   "cell_type": "markdown",
   "metadata": {},
   "source": [
    "A.6. Show the contents of the newly created file for comparison"
   ]
  },
  {
   "cell_type": "code",
   "execution_count": 58,
   "metadata": {
    "pycharm": {
     "name": "#%%\n"
    }
   },
   "outputs": [
    {
     "name": "stdout",
     "output_type": "stream",
     "text": [
      "<?xml version=\"1.0\" encoding=\"UTF-8\"?>\n",
      "<rdf:RDF\n",
      "   xmlns:dcterms=\"http://purl.org/dc/terms/\"\n",
      "   xmlns:rdf=\"http://www.w3.org/1999/02/22-rdf-syntax-ns#\"\n",
      "   xmlns:sdo=\"https://schema.org/\"\n",
      "   xmlns:skos=\"http://www.w3.org/2004/02/skos/core#\"\n",
      ">\n",
      "  <rdf:Description rdf:about=\"http://linked.data.gov.au/def/borehole-drilling-method/kastern-core\">\n",
      "    <skos:inScheme rdf:resource=\"http://linked.data.gov.au/def/borehole-drilling-method\"/>\n",
      "    <skos:definition xml:lang=\"en\">Large volume, relatively undisturbed sediment core (~3m long) from a Kasten Corer. The corer is constructed of stainless steel and is square in cross-section. A weight of several hundred kilograms on top of the corer pushes it 2-3 metres into the seabed.</skos:definition>\n",
      "    <skos:prefLabel xml:lang=\"en\">Kastern Core</skos:prefLabel>\n",
      "    <skos:broader rdf:resource=\"http://linked.data.gov.au/def/borehole-drilling-method/direct-push\"/>\n",
      "    <rdf:type rdf:resource=\"http://www.w3.org/2004/02/skos/core#Concept\"/>\n",
      "  </rdf:Description>\n",
      "  <rdf:Description rdf:about=\"http://linked.data.gov.au/def/borehole-drilling-method/hand-auger\">\n",
      "    <skos:broader rdf:resource=\"http://linked.data.gov.au/def/borehole-drilling-method/auger\"/>\n",
      "    <rdf:type rdf:resource=\"http://www.w3.org/2004/02/skos/core#Concept\"/>\n",
      "    <skos:inScheme rdf:resource=\"http://linked.data.gov.au/def/borehole-drilling-method\"/>\n",
      "    <skos:definition xml:lang=\"en\">A hand auger consists of extendable steel rods, rotated by hand. Various steel augers can be attached at the bottom end of the drill rods. The augers are rotated into the ground until they are filled, and then lifted out of the borehole to be emptied.</skos:definition>\n",
      "    <skos:prefLabel xml:lang=\"en\">Hand Auger</skos:prefLabel>\n",
      "  </rdf:Description>\n",
      "  <rdf:Description rdf:about=\"http://linked.data.gov.au/def/borehole-drilling-method/auger\">\n",
      "    <skos:exactMatch rdf:resource=\"http://vocabs.ands.org.au/repository/api/lda/ga/borehole-drilling-method/v0-1/resource?uri=http://resource.geosciml.org/classifier/cgi/boreholedrillingmethod/auger\"/>\n",
      "    <skos:topConceptOf rdf:resource=\"http://linked.data.gov.au/def/borehole-drilling-method\"/>\n",
      "    <skos:prefLabel xml:lang=\"en\">Auger</skos:prefLabel>\n",
      "    <rdf:type rdf:resource=\"http://www.w3.org/2004/02/skos/core#Concept\"/>\n",
      "    <skos:definition xml:lang=\"en\">Auger drilling is done with a helical screw which is driven into the ground with rotation; the earth is lifted up the borehole by the blade of the screw. Auger drills may be either rotated by hand or mechanically driven. Hollow stem auger drilling is used for softer ground such as swamps where the hole will not stay open by itself for environmental drilling, geotechnical drilling, soil engineering and geochemistry reconnaissance work in exploration for mineral deposits. Solid flight augers/bucket augers are used in harder ground construction drilling. In some cases, mine shafts are dug with auger drills. Small augers can be mounted on the back of a utility truck, with large augers used for sinking piles for bridge foundations.</skos:definition>\n",
      "    <skos:inScheme rdf:resource=\"http://linked.data.gov.au/def/borehole-drilling-method\"/>\n",
      "  </rdf:Description>\n",
      "  <rdf:Description rdf:about=\"http://linked.data.gov.au/def/borehole-drilling-method/vibrocore\">\n",
      "    <skos:definition xml:lang=\"en\">A core tube is attached to a source of mechanical vibration (the power head) and lowered into sediment. The vibrations provide energy for rearranging the particles within the sediment in such a way that the core tube penetrates under the static weight of the vibracoring apparatus. Samples include stiff and stony clays, soft rock and sands, and saturated sediments which can not be sampled using gravity or piston corers. Also know as VIBRA.</skos:definition>\n",
      "    <skos:broader rdf:resource=\"http://linked.data.gov.au/def/borehole-drilling-method/core-drilling\"/>\n",
      "    <skos:inScheme rdf:resource=\"http://linked.data.gov.au/def/borehole-drilling-method\"/>\n",
      "    <rdf:type rdf:resource=\"http://www.w3.org/2004/02/skos/core#Concept\"/>\n",
      "    <skos:prefLabel xml:lang=\"en\">Vibrocore</skos:prefLabel>\n",
      "  </rdf:Description>\n",
      "  <rdf:Description rdf:about=\"http://linked.data.gov.au/def/borehole-drilling-method/sonic\">\n",
      "    <skos:definition xml:lang=\"en\">A sonic or vibratory drill head works by sending high frequency resonant vibrations down the drill string to the drill bit, while the operator controls these frequencies to suit the specific conditions of the soil/rock geology. Vibrations may also be generated within the drill head. The frequency is generally between 50 and 180 hertz (cycles per second) and can be varied by the operator. Resonance magnifies the amplitude of the drill bit, which fluidizes the soil particles at the bit face, allowing for fast and easy penetration through most geological formations. An internal spring system isolates these vibrational forces from the rest of the drill rig.</skos:definition>\n",
      "    <skos:prefLabel xml:lang=\"en\">Sonic</skos:prefLabel>\n",
      "    <rdf:type rdf:resource=\"http://www.w3.org/2004/02/skos/core#Concept\"/>\n",
      "    <skos:topConceptOf rdf:resource=\"http://linked.data.gov.au/def/borehole-drilling-method\"/>\n",
      "    <skos:exactMatch rdf:resource=\"http://vocabs.ands.org.au/repository/api/lda/ga/borehole-drilling-method/v0-1/resource?uri=http://resource.geosciml.org/classifier/cgi/boreholedrillingmethod/sonic\"/>\n",
      "    <skos:inScheme rdf:resource=\"http://linked.data.gov.au/def/borehole-drilling-method\"/>\n",
      "  </rdf:Description>\n",
      "  <rdf:Description rdf:about=\"http://linked.data.gov.au/def/borehole-drilling-method/percussion-drilling\">\n",
      "    <skos:topConceptOf rdf:resource=\"http://linked.data.gov.au/def/borehole-drilling-method\"/>\n",
      "    <skos:prefLabel xml:lang=\"en\">Percussion Drilling</skos:prefLabel>\n",
      "    <rdf:type rdf:resource=\"http://www.w3.org/2004/02/skos/core#Concept\"/>\n",
      "    <skos:exactMatch rdf:resource=\"http://vocabs.ands.org.au/repository/api/lda/ga/borehole-drilling-method/v0-1/resource?uri=http://resource.geosciml.org/classifier/cgi/boreholedrillingmethod/percussion_drilling\"/>\n",
      "    <skos:definition xml:lang=\"en\">A drilling method whereby rock or sediment chips or fragments (cuttings) are derived by use of a percussion (hammer) method, with or without rotary action.</skos:definition>\n",
      "    <skos:inScheme rdf:resource=\"http://linked.data.gov.au/def/borehole-drilling-method\"/>\n",
      "  </rdf:Description>\n",
      "  <rdf:Description rdf:about=\"http://linked.data.gov.au/def/borehole-drilling-method/air-core\">\n",
      "    <skos:prefLabel xml:lang=\"en\">Air Core</skos:prefLabel>\n",
      "    <skos:definition xml:lang=\"en\">Air core drilling and related methods use hardened steel or tungsten blades to bore a hole into unconsolidated ground. The drill bit has three blades arranged around the bit head, which cut the unconsolidated ground. The rods are hollow and contain an inner tube which sits inside the hollow outer rod barrel. The drill cuttings are removed by injection of compressed air into the hole via the annular area between the innertube and the drill rod. The cuttings are then blown back to surface up the inner tube where they pass through the sample separating system and are collected if needed. Drilling continues with the addition of rods to the top of the drill string. Air core drilling can occasionally produce small chunks of cored rock.</skos:definition>\n",
      "    <skos:topConceptOf rdf:resource=\"http://linked.data.gov.au/def/borehole-drilling-method\"/>\n",
      "    <skos:exactMatch rdf:resource=\"http://vocabs.ands.org.au/repository/api/lda/ga/borehole-drilling-method/v0-1/resource?uri=http://resource.geosciml.org/classifier/cgi/boreholedrillingmethod/air_core\"/>\n",
      "    <rdf:type rdf:resource=\"http://www.w3.org/2004/02/skos/core#Concept\"/>\n",
      "    <skos:inScheme rdf:resource=\"http://linked.data.gov.au/def/borehole-drilling-method\"/>\n",
      "  </rdf:Description>\n",
      "  <rdf:Description rdf:about=\"http://linked.data.gov.au/def/borehole-drilling-method/cable-tool-drilling\">\n",
      "    <skos:prefLabel xml:lang=\"en\">Cable Tool Drilling</skos:prefLabel>\n",
      "    <rdf:type rdf:resource=\"http://www.w3.org/2004/02/skos/core#Concept\"/>\n",
      "    <skos:broader rdf:resource=\"http://linked.data.gov.au/def/borehole-drilling-method/percussion-drilling\"/>\n",
      "    <skos:inScheme rdf:resource=\"http://linked.data.gov.au/def/borehole-drilling-method\"/>\n",
      "    <skos:definition xml:lang=\"en\">A percussion drilling method that uses a heavy drilling tool that is raised and lowered with enough force to pulverise the rock, with the debris removed by a bailer. Although this drilling method has largely been supplanted in recent years by other, faster drilling techniques, it is still the most practicable drilling method for large diameter, deep bedrock wells, and in widespread use for small rural water supply wells. The impact of the drill bit fractures the rock and in many shale rock situations increases the water flow into a well over rotary. Many large diameter water supply wells, especially deep wells completed in bedrock aquifers, were completed using this drilling method.</skos:definition>\n",
      "  </rdf:Description>\n",
      "  <rdf:Description rdf:about=\"http://linked.data.gov.au/def/borehole-drilling-method/geoprobe-core\">\n",
      "    <skos:prefLabel xml:lang=\"en\">Geoprobe Core</skos:prefLabel>\n",
      "    <skos:broader rdf:resource=\"http://linked.data.gov.au/def/borehole-drilling-method/direct-push\"/>\n",
      "    <skos:inScheme rdf:resource=\"http://linked.data.gov.au/def/borehole-drilling-method\"/>\n",
      "    <rdf:type rdf:resource=\"http://www.w3.org/2004/02/skos/core#Concept\"/>\n",
      "    <skos:definition xml:lang=\"en\">A proprietary type of direct push drilling. High quality core is extracted by hydraulic power. Used in rough terrain, soft sand, mud, shallow water, or tight, congested areas. Long high quality cores.</skos:definition>\n",
      "  </rdf:Description>\n",
      "  <rdf:Description rdf:about=\"http://linked.data.gov.au/def/borehole-drilling-method\">\n",
      "    <rdf:type rdf:resource=\"http://www.w3.org/2002/07/owl#Ontology\"/>\n",
      "    <skos:hasTopConcept rdf:resource=\"http://linked.data.gov.au/def/borehole-drilling-method/sidewall-core\"/>\n",
      "    <rdf:type rdf:resource=\"http://www.w3.org/2004/02/skos/core#ConceptScheme\"/>\n",
      "    <skos:hasTopConcept rdf:resource=\"http://linked.data.gov.au/def/borehole-drilling-method/probe\"/>\n",
      "    <skos:hasTopConcept rdf:resource=\"http://linked.data.gov.au/def/borehole-drilling-method/auger\"/>\n",
      "    <skos:hasTopConcept rdf:resource=\"http://linked.data.gov.au/def/borehole-drilling-method/hydraulic-rotary-drilling\"/>\n",
      "    <skos:hasTopConcept rdf:resource=\"http://linked.data.gov.au/def/borehole-drilling-method/air-core\"/>\n",
      "    <dcterms:creator rdf:resource=\"http://linked.data.gov.au/org/gsq\"/>\n",
      "    <dcterms:modified rdf:datatype=\"http://www.w3.org/2001/XMLSchema#dateTime\">2020-02-04T12:45:20</dcterms:modified>\n",
      "    <skos:definition xml:lang=\"en\">The description of methods used to drill a borehole.</skos:definition>\n",
      "    <skos:hasTopConcept rdf:resource=\"http://linked.data.gov.au/def/borehole-drilling-method/core-drilling\"/>\n",
      "    <skos:hasTopConcept rdf:resource=\"http://linked.data.gov.au/def/borehole-drilling-method/sonic\"/>\n",
      "    <dcterms:publisher rdf:resource=\"http://linked.data.gov.au/org/gsq\"/>\n",
      "    <skos:prefLabel xml:lang=\"en\">Borehole Drilling Method</skos:prefLabel>\n",
      "    <dcterms:source>Compiled by the Geological Survey of Queensland</dcterms:source>\n",
      "    <skos:hasTopConcept rdf:resource=\"http://linked.data.gov.au/def/borehole-drilling-method/box-core\"/>\n",
      "    <dcterms:created rdf:datatype=\"http://www.w3.org/2001/XMLSchema#dateTime\">2020-02-04T12:45:20</dcterms:created>\n",
      "    <skos:hasTopConcept rdf:resource=\"http://linked.data.gov.au/def/borehole-drilling-method/percussion-drilling\"/>\n",
      "  </rdf:Description>\n",
      "  <rdf:Description rdf:about=\"http://linked.data.gov.au/def/borehole-drilling-method/delft-sampler\">\n",
      "    <skos:inScheme rdf:resource=\"http://linked.data.gov.au/def/borehole-drilling-method\"/>\n",
      "    <skos:prefLabel xml:lang=\"en\">Delft Sampler</skos:prefLabel>\n",
      "    <skos:broader rdf:resource=\"http://linked.data.gov.au/def/borehole-drilling-method/direct-push\"/>\n",
      "    <skos:definition xml:lang=\"en\">The Delft continuous sampler, developed by GeoDelft, is used for obtaining high quality samples within very soft cohesive soils. The sampling system is available in two sizes to take continuous samples, 29 or 66mm in diameter, normally with a maximum penetration of about 18m. A steel outer tube is pushed into the ground using standard CPT (cone penetrometer test) equipment and the soil sample core is fed into a thin-walled plastic inner tube as the sampler advances. After extraction, the samples are cut into 1 m lengths and placed in purpose-made cases, being retained in the plastic tubes.</skos:definition>\n",
      "    <rdf:type rdf:resource=\"http://www.w3.org/2004/02/skos/core#Concept\"/>\n",
      "  </rdf:Description>\n",
      "  <rdf:Description rdf:about=\"http://linked.data.gov.au/def/borehole-drilling-method/probe\">\n",
      "    <skos:prefLabel xml:lang=\"en\">Probe</skos:prefLabel>\n",
      "    <skos:inScheme rdf:resource=\"http://linked.data.gov.au/def/borehole-drilling-method\"/>\n",
      "    <skos:topConceptOf rdf:resource=\"http://linked.data.gov.au/def/borehole-drilling-method\"/>\n",
      "    <skos:definition xml:lang=\"en\">An object (eg, penetrometer) inserted into the substrate that records material properties without taking physical samples.</skos:definition>\n",
      "    <rdf:type rdf:resource=\"http://www.w3.org/2004/02/skos/core#Concept\"/>\n",
      "    <skos:exactMatch rdf:resource=\"http://vocabs.ands.org.au/repository/api/lda/ga/borehole-drilling-method/v0-1/resource?uri=http://resource.geosciml.org/classifier/cgi/boreholedrillingmethod/probe\"/>\n",
      "  </rdf:Description>\n",
      "  <rdf:Description rdf:about=\"http://linked.data.gov.au/def/borehole-drilling-method/sidewall-core-bullet\">\n",
      "    <skos:definition xml:lang=\"en\">Percussion cores are taken by firing hollow bullets into the formation. The bullets are attached to the tool by fasteners, and are retrieved, along with the core inside, by pulling up the tool and the fasteners. Percussion coring tools typically hold 20 to 30 bullets, but two or three tools can be combined on one run in the hole.</skos:definition>\n",
      "    <rdf:type rdf:resource=\"http://www.w3.org/2004/02/skos/core#Concept\"/>\n",
      "    <skos:prefLabel xml:lang=\"en\">Sidewall Core Bullet</skos:prefLabel>\n",
      "    <skos:inScheme rdf:resource=\"http://linked.data.gov.au/def/borehole-drilling-method\"/>\n",
      "    <skos:broader rdf:resource=\"http://linked.data.gov.au/def/borehole-drilling-method/sidewall-core\"/>\n",
      "  </rdf:Description>\n",
      "  <rdf:Description rdf:about=\"http://linked.data.gov.au/def/borehole-drilling-method/mackintosh-probe\">\n",
      "    <skos:inScheme rdf:resource=\"http://linked.data.gov.au/def/borehole-drilling-method\"/>\n",
      "    <rdf:type rdf:resource=\"http://www.w3.org/2004/02/skos/core#Concept\"/>\n",
      "    <skos:definition xml:lang=\"en\">The Mackintosh tool consists of rods which can be threaded together with barrel connectors and which are normally fitted with a driving point at their base, and a light hand-operated driving hammer at their top. The tool provides a very economical method of determining the thickness of soft deposits such as peat. The driving point is streamlined in longitudinal section with a maximum diameter of 27mm. The drive hammer has a total weight of about 4kg. The rods are 1.2m long and 12mm diameter. The device is often used to provide a depth profile by driving the point and rods into the ground with equal blows of the full drop height available from the hammer: the number of blows for each 150mm of penetration is recorded.</skos:definition>\n",
      "    <skos:broader rdf:resource=\"http://linked.data.gov.au/def/borehole-drilling-method/probe\"/>\n",
      "    <skos:prefLabel xml:lang=\"en\">Mackintosh Probe</skos:prefLabel>\n",
      "  </rdf:Description>\n",
      "  <rdf:Description rdf:about=\"http://linked.data.gov.au/def/borehole-drilling-method/cone-penetrometer-test-probe\">\n",
      "    <skos:definition xml:lang=\"en\">A metal rod with an instrumented cone tip pushed by hammering or hydraulically into weakly consolidated ground at a controlled rate. Tip resistance, sleeve friction and water pressure are commonly measured parameters. Includes static and dynamic cone penetration tests.</skos:definition>\n",
      "    <skos:broader rdf:resource=\"http://linked.data.gov.au/def/borehole-drilling-method/probe\"/>\n",
      "    <rdf:type rdf:resource=\"http://www.w3.org/2004/02/skos/core#Concept\"/>\n",
      "    <skos:inScheme rdf:resource=\"http://linked.data.gov.au/def/borehole-drilling-method\"/>\n",
      "    <skos:prefLabel xml:lang=\"en\">Cone Penetrometer Test Probe</skos:prefLabel>\n",
      "  </rdf:Description>\n",
      "  <rdf:Description rdf:about=\"http://linked.data.gov.au/def/borehole-drilling-method/direct-push\">\n",
      "    <rdf:type rdf:resource=\"http://www.w3.org/2004/02/skos/core#Concept\"/>\n",
      "    <skos:broader rdf:resource=\"http://linked.data.gov.au/def/borehole-drilling-method/core-drilling\"/>\n",
      "    <skos:definition xml:lang=\"en\">Direct push technology includes several types of drilling rigs and drilling equipment which advances a drill string by pushing or hammering without rotating the drill string. Direct push rigs include both cone penetration testing rigs and direct push sampling rigs such as a PowerProbe or Geoprobe. Direct push rigs typically are limited to drilling in unconsolidated soil materials and very soft rock. Direct push drilling rigs use hydraulic cylinders and a hydraulic hammer in advancing a hollow core sampler, typically no longer than 2 metres, to gather soil and groundwater samples. The core pipe has a valve on top that is used to create a vacuum at the top of the core when pulling the core out of the sediment. The method can be used in up to 5m of water.</skos:definition>\n",
      "    <skos:prefLabel xml:lang=\"en\">Direct Push</skos:prefLabel>\n",
      "    <skos:inScheme rdf:resource=\"http://linked.data.gov.au/def/borehole-drilling-method\"/>\n",
      "  </rdf:Description>\n",
      "  <rdf:Description rdf:about=\"http://linked.data.gov.au/def/borehole-drilling-method/conventional-core\">\n",
      "    <skos:prefLabel xml:lang=\"en\">Conventional Core</skos:prefLabel>\n",
      "    <skos:definition xml:lang=\"en\">Core drilling using a diamond or tungsten carbide bit and a core barrel with fibreglass inner sleeves. To retrieve the core samples, the complete rod string and core barrel assembly has to be removed from the hole. Conventional coring is much more time consuming than wireline coring, as each rod has to be removed from the hole individually, then lowered back into the hole to continue to advance the boring and collect the next core sample. Used in the oil industry.</skos:definition>\n",
      "    <rdf:type rdf:resource=\"http://www.w3.org/2004/02/skos/core#Concept\"/>\n",
      "    <skos:broader rdf:resource=\"http://linked.data.gov.au/def/borehole-drilling-method/diamond-core\"/>\n",
      "    <skos:inScheme rdf:resource=\"http://linked.data.gov.au/def/borehole-drilling-method\"/>\n",
      "  </rdf:Description>\n",
      "  <rdf:Description rdf:about=\"http://linked.data.gov.au/def/borehole-drilling-method/reverse-circulation-drilling\">\n",
      "    <skos:inScheme rdf:resource=\"http://linked.data.gov.au/def/borehole-drilling-method\"/>\n",
      "    <skos:broader rdf:resource=\"http://linked.data.gov.au/def/borehole-drilling-method/percussion-drilling\"/>\n",
      "    <rdf:type rdf:resource=\"http://www.w3.org/2004/02/skos/core#Concept\"/>\n",
      "    <skos:definition xml:lang=\"en\">The drilling mechanism for reverse circulation (RC) drilling is a pneumatic reciprocating piston known as a 'hammer' driving a tungsten-steel drill bit. Compressed air passes down to the drill bit along the annular space between an outer and inner drill rod to return to the surface carrying drill cuttings. This is the reverse of the air path employed in normal open hole rotary percussion drilling (including RAB drilling). At the top of the hole, the air and drill cuttings are passed through a cyclone to collect the cuttings for sampling. The RC drilling technique prevents the upcoming sample from being contaminated with material from the wall of the hole above the sampling depth. RC drilling utilises much larger rigs and machinery and depths of up to 500 metres are routinely achieved.</skos:definition>\n",
      "    <skos:prefLabel xml:lang=\"en\">Reverse Circulation Drilling</skos:prefLabel>\n",
      "  </rdf:Description>\n",
      "  <rdf:Description rdf:about=\"http://linked.data.gov.au/def/borehole-drilling-method/hydraulic-rotary-drilling\">\n",
      "    <skos:topConceptOf rdf:resource=\"http://linked.data.gov.au/def/borehole-drilling-method\"/>\n",
      "    <rdf:type rdf:resource=\"http://www.w3.org/2004/02/skos/core#Concept\"/>\n",
      "    <skos:prefLabel xml:lang=\"en\">Hydraulic Rotary Drilling</skos:prefLabel>\n",
      "    <skos:definition xml:lang=\"en\">A drilling method using a drill stem equipped with a bit that is rotated to cut and grind the rock with a fluid pumped down the stem to force cuttings up through the annular space between the stem and the wall of the hole. Oil well drilling of this type utilises tri-cone roller, carbide embedded, fixed-cutter diamond, or diamond-impregnated drill bits. This is preferred because there is no need to return intact samples to surface for assay as the objective is to reach a formation containing oil or natural gas. Sizable machinery is used, enabling depths of several kilometres to be penetrated. Rotating hollow drill pipes carry down bentonite and barite infused drilling muds to lubricate, cool, and clean the drilling bit, control downhole pressures, stabilize the wall of the borehole and remove drill cuttings.</skos:definition>\n",
      "    <skos:inScheme rdf:resource=\"http://linked.data.gov.au/def/borehole-drilling-method\"/>\n",
      "    <skos:exactMatch rdf:resource=\"http://vocabs.ands.org.au/repository/api/lda/ga/borehole-drilling-method/v0-1/resource?uri=http://resource.geosciml.org/classifier/cgi/boreholedrillingmethod/hydraulic_rotary_drilling\"/>\n",
      "  </rdf:Description>\n",
      "  <rdf:Description rdf:about=\"http://linked.data.gov.au/def/borehole-drilling-method/core-drilling\">\n",
      "    <skos:inScheme rdf:resource=\"http://linked.data.gov.au/def/borehole-drilling-method\"/>\n",
      "    <rdf:type rdf:resource=\"http://www.w3.org/2004/02/skos/core#Concept\"/>\n",
      "    <skos:exactMatch rdf:resource=\"http://vocabs.ands.org.au/repository/api/lda/ga/borehole-drilling-method/v0-1/resource?uri=http://resource.geosciml.org/classifier/cgi/boreholedrillingmethod/core_drilling\"/>\n",
      "    <skos:definition xml:lang=\"en\">A core of sediment, soil, or rock is derived by an unspecified core drilling method.</skos:definition>\n",
      "    <skos:prefLabel xml:lang=\"en\">Core Drilling</skos:prefLabel>\n",
      "    <skos:topConceptOf rdf:resource=\"http://linked.data.gov.au/def/borehole-drilling-method\"/>\n",
      "  </rdf:Description>\n",
      "  <rdf:Description rdf:about=\"http://linked.data.gov.au/def/borehole-drilling-method/power-auger\">\n",
      "    <skos:inScheme rdf:resource=\"http://linked.data.gov.au/def/borehole-drilling-method\"/>\n",
      "    <rdf:type rdf:resource=\"http://www.w3.org/2004/02/skos/core#Concept\"/>\n",
      "    <skos:prefLabel xml:lang=\"en\">Power Auger</skos:prefLabel>\n",
      "    <skos:definition xml:lang=\"en\">Mechanically-driven auger drilling, typically used in hard ground or for holes that are too wide or deep for hand auger drilling. Auger drilling is done with a helical screw which is driven into the ground with rotation; the earth is lifted up the borehole by the blade of the screw. Small power augers can be portable or mounted on the back of a utility truck, with larger auger rigs used for construction, like sinking piles for bridge foundations or mine shafts.</skos:definition>\n",
      "    <skos:broader rdf:resource=\"http://linked.data.gov.au/def/borehole-drilling-method/auger\"/>\n",
      "  </rdf:Description>\n",
      "  <rdf:Description rdf:about=\"http://linked.data.gov.au/def/borehole-drilling-method/sidewall-core-mechanical\">\n",
      "    <skos:inScheme rdf:resource=\"http://linked.data.gov.au/def/borehole-drilling-method\"/>\n",
      "    <skos:broader rdf:resource=\"http://linked.data.gov.au/def/borehole-drilling-method/sidewall-core\"/>\n",
      "    <skos:definition xml:lang=\"en\">Mechanical tools use hollow rotary drills to cut and then pull out core plugs. Up to 75 plugs can be recovered on one run. With full recovery, cores from typical percussion tools are 2.5 cm in diameter by 4.4 cm long, while those from mechanical tools are 2.3 cm in diameter by 5 cm long. The latter are also known as rotary sidewall cores.</skos:definition>\n",
      "    <skos:prefLabel xml:lang=\"en\">Sidewall Core Mechanical</skos:prefLabel>\n",
      "    <rdf:type rdf:resource=\"http://www.w3.org/2004/02/skos/core#Concept\"/>\n",
      "  </rdf:Description>\n",
      "  <rdf:Description rdf:about=\"http://linked.data.gov.au/def/borehole-drilling-method/rab-drilling\">\n",
      "    <skos:inScheme rdf:resource=\"http://linked.data.gov.au/def/borehole-drilling-method\"/>\n",
      "    <skos:definition xml:lang=\"en\">Percussion rotary air blast drilling (RAB) drilling is an 'open hole' rotary percussion drilling method where rock or sediment chips are derived by using a drag bit or pneumatic reciprocating piston-driven hammer, and the cuttings are blown up the outside of the drill rods by air, or a combination of air and foam, and collected at the surface. It is used most frequently in the mineral exploration industry.</skos:definition>\n",
      "    <skos:broader rdf:resource=\"http://linked.data.gov.au/def/borehole-drilling-method/percussion-drilling\"/>\n",
      "    <rdf:type rdf:resource=\"http://www.w3.org/2004/02/skos/core#Concept\"/>\n",
      "    <skos:prefLabel xml:lang=\"en\">Rab Drilling</skos:prefLabel>\n",
      "  </rdf:Description>\n",
      "  <rdf:Description rdf:about=\"http://linked.data.gov.au/def/borehole-drilling-method/mackereth-core\">\n",
      "    <skos:definition xml:lang=\"en\">The Mackereth corer (Mackereth, 1958; Smith, 1959) is a pneumatic device that consists of a cylindrical aluminum chamber ~1.2m long and 0.5m in diameter. The apparatus is lowered to the lake floor on a rope, and air hoses connect the chamber to the vessel at the water surface. Compressed air is used to pump the water out of the chamber and then to force the inner core barrel downward through the chamber and into the sediment. The method can recover single-drive moderate (up to 12 m) cores from lakes of diverse depths. Mackereth cores can be deployed on virtually any small craft and can be used in water depths up to 100 metres.</skos:definition>\n",
      "    <skos:inScheme rdf:resource=\"http://linked.data.gov.au/def/borehole-drilling-method\"/>\n",
      "    <skos:prefLabel xml:lang=\"en\">Mackereth Core</skos:prefLabel>\n",
      "    <rdf:type rdf:resource=\"http://www.w3.org/2004/02/skos/core#Concept\"/>\n",
      "    <skos:broader rdf:resource=\"http://linked.data.gov.au/def/borehole-drilling-method/direct-push\"/>\n",
      "  </rdf:Description>\n",
      "  <rdf:Description rdf:about=\"http://linked.data.gov.au/def/borehole-drilling-method/diamond-core\">\n",
      "    <skos:broader rdf:resource=\"http://linked.data.gov.au/def/borehole-drilling-method/core-drilling\"/>\n",
      "    <skos:inScheme rdf:resource=\"http://linked.data.gov.au/def/borehole-drilling-method\"/>\n",
      "    <rdf:type rdf:resource=\"http://www.w3.org/2004/02/skos/core#Concept\"/>\n",
      "    <skos:definition xml:lang=\"en\">Diamond core drilling (or diamond drilling) utilizes an annular diamond- or tungsten-carbide-impregnated drill bit attached to the end of hollow drill rods to cut a cylindrical core of solid rock. The diamonds used are fine to microfine industrial grade diamonds. They are set within a matrix of varying hardness, from brass to high-grade steel. Matrix hardness, diamond size and dosing can be varied according to the rock which must be cut. Holes within the bit allow water to be delivered to the cutting face. This provides three essential functions: lubrication, cooling, and removal of drill cuttings from the hole. Core samples are retrieved via the use of a core tube, a hollow tube placed inside the rod string and pumped with water until it locks into the core barrel. As the core is drilled, the core barrel slides over the core as it is cut. An 'overshot' attached to the end of the winch cable is lowered inside the rod string and locks on to the backend (aka head assembly), located on the top end of the core barrel. The winch is retracted, pulling the core tube to the surface. The core does not drop out of the inside of the core tube when lifted because either a split ring core lifter or basket retainer allow the core to move into, but not back out of the tube.</skos:definition>\n",
      "    <skos:prefLabel xml:lang=\"en\">Diamond Core</skos:prefLabel>\n",
      "  </rdf:Description>\n",
      "  <rdf:Description rdf:about=\"http://linked.data.gov.au/def/borehole-drilling-method/rotary-hammer-drilling\">\n",
      "    <skos:broader rdf:resource=\"http://linked.data.gov.au/def/borehole-drilling-method/percussion-drilling\"/>\n",
      "    <rdf:type rdf:resource=\"http://www.w3.org/2004/02/skos/core#Concept\"/>\n",
      "    <skos:definition xml:lang=\"en\">A percussion drilling method using a cutting tool powered by compressed air that creates a rapid percussion effect coupled with rotary action to drill hard rocks.</skos:definition>\n",
      "    <skos:prefLabel xml:lang=\"en\">Rotary Hammer Drilling</skos:prefLabel>\n",
      "    <skos:inScheme rdf:resource=\"http://linked.data.gov.au/def/borehole-drilling-method\"/>\n",
      "  </rdf:Description>\n",
      "  <rdf:Description rdf:about=\"http://linked.data.gov.au/org/gsq\">\n",
      "    <rdf:type rdf:resource=\"https://schema.org/Organization\"/>\n",
      "    <sdo:url rdf:resource=\"https://www.business.qld.gov.au/industries/mining-energy-water/resources/geoscience-information/gsq\"/>\n",
      "    <sdo:name>Geological Survey of Queensland</sdo:name>\n",
      "  </rdf:Description>\n",
      "  <rdf:Description rdf:about=\"http://linked.data.gov.au/def/borehole-drilling-method/sidewall-core\">\n",
      "    <skos:topConceptOf rdf:resource=\"http://linked.data.gov.au/def/borehole-drilling-method\"/>\n",
      "    <rdf:type rdf:resource=\"http://www.w3.org/2004/02/skos/core#Concept\"/>\n",
      "    <skos:prefLabel xml:lang=\"en\">Sidewall Core</skos:prefLabel>\n",
      "    <skos:inScheme rdf:resource=\"http://linked.data.gov.au/def/borehole-drilling-method\"/>\n",
      "    <skos:definition xml:lang=\"en\">A method to extract a core or plug from the sidewall of a borehole.</skos:definition>\n",
      "    <skos:exactMatch rdf:resource=\"http://vocabs.ands.org.au/repository/api/lda/ga/borehole-drilling-method/v0-1/resource?uri=http://resource.geosciml.org/classifier/cgi/boreholedrillingmethod/sidewall_core\"/>\n",
      "  </rdf:Description>\n",
      "  <rdf:Description rdf:about=\"http://linked.data.gov.au/def/borehole-drilling-method/gravity-core\">\n",
      "    <rdf:type rdf:resource=\"http://www.w3.org/2004/02/skos/core#Concept\"/>\n",
      "    <skos:prefLabel xml:lang=\"en\">Gravity Core</skos:prefLabel>\n",
      "    <skos:inScheme rdf:resource=\"http://linked.data.gov.au/def/borehole-drilling-method\"/>\n",
      "    <skos:definition xml:lang=\"en\">Used only where short cores are required. Core barrel is gravity forced into poorly consolidated material, producing near surface high quality core.</skos:definition>\n",
      "    <skos:broader rdf:resource=\"http://linked.data.gov.au/def/borehole-drilling-method/direct-push\"/>\n",
      "  </rdf:Description>\n",
      "  <rdf:Description rdf:about=\"http://linked.data.gov.au/def/borehole-drilling-method/piston-core\">\n",
      "    <skos:broader rdf:resource=\"http://linked.data.gov.au/def/borehole-drilling-method/direct-push\"/>\n",
      "    <skos:definition xml:lang=\"en\">A drilling method that uses a piston to drive the core barrel. Produces high quality long cores.</skos:definition>\n",
      "    <rdf:type rdf:resource=\"http://www.w3.org/2004/02/skos/core#Concept\"/>\n",
      "    <skos:inScheme rdf:resource=\"http://linked.data.gov.au/def/borehole-drilling-method\"/>\n",
      "    <skos:prefLabel xml:lang=\"en\">Piston Core</skos:prefLabel>\n",
      "  </rdf:Description>\n",
      "  <rdf:Description rdf:about=\"http://linked.data.gov.au/def/borehole-drilling-method/window-sampler\">\n",
      "    <rdf:type rdf:resource=\"http://www.w3.org/2004/02/skos/core#Concept\"/>\n",
      "    <skos:inScheme rdf:resource=\"http://linked.data.gov.au/def/borehole-drilling-method\"/>\n",
      "    <skos:definition xml:lang=\"en\">Window or windowless sampling uses either drop weight or hydraulic hammer to drive 1m or 2m long sample tubes into the ground. The sample tubes have open slots or windows along their length to allow for logging and sampling. In windowless sampling, the sample tube contains a liner which retains the sample and reduces potential for cross contamination of soils during the drilling process. Window or windowless sampling is used to bore through shallow soft soils to investigate the substrata in order to gain a profile of the ground conditions and to facilitate soil sampling for chemical and geotechnical analysis.</skos:definition>\n",
      "    <skos:broader rdf:resource=\"http://linked.data.gov.au/def/borehole-drilling-method/direct-push\"/>\n",
      "    <skos:prefLabel xml:lang=\"en\">Window Sampler</skos:prefLabel>\n",
      "  </rdf:Description>\n",
      "  <rdf:Description rdf:about=\"http://linked.data.gov.au/def/borehole-drilling-method/box-core\">\n",
      "    <skos:prefLabel xml:lang=\"en\">Box Core</skos:prefLabel>\n",
      "    <rdf:type rdf:resource=\"http://www.w3.org/2004/02/skos/core#Concept\"/>\n",
      "    <skos:exactMatch rdf:resource=\"http://vocabs.ands.org.au/repository/api/lda/ga/borehole-drilling-method/v0-1/resource?uri=http://resource.geosciml.org/classifier/cgi/boreholedrillingmethod/box_core\"/>\n",
      "    <skos:topConceptOf rdf:resource=\"http://linked.data.gov.au/def/borehole-drilling-method\"/>\n",
      "    <skos:definition xml:lang=\"en\">A sampling method that obtains a large volume or large surface area core with shallow penetration and minimum disturbance. Commonly uses a double spade system.</skos:definition>\n",
      "    <skos:inScheme rdf:resource=\"http://linked.data.gov.au/def/borehole-drilling-method\"/>\n",
      "  </rdf:Description>\n",
      "</rdf:RDF>\n",
      "\n"
     ]
    }
   ],
   "source": [
    "with open(\"data/bdm.rdf\") as f:\n",
    "    print(f.read())"
   ]
  },
  {
   "cell_type": "markdown",
   "metadata": {},
   "source": [
    "## B. Native RDFlib accessing of graph data\n",
    "\n",
    "B.1. Loop through graph, printing the subjects of all triples - no filtering"
   ]
  },
  {
   "cell_type": "code",
   "execution_count": 59,
   "metadata": {
    "pycharm": {
     "name": "#%%\n"
    }
   },
   "outputs": [
    {
     "name": "stdout",
     "output_type": "stream",
     "text": [
      "http://linked.data.gov.au/def/borehole-drilling-method/kastern-core\n",
      "http://linked.data.gov.au/def/borehole-drilling-method/hand-auger\n",
      "http://linked.data.gov.au/def/borehole-drilling-method/auger\n",
      "http://linked.data.gov.au/def/borehole-drilling-method/vibrocore\n",
      "http://linked.data.gov.au/def/borehole-drilling-method/sonic\n",
      "http://linked.data.gov.au/def/borehole-drilling-method/percussion-drilling\n",
      "http://linked.data.gov.au/def/borehole-drilling-method/percussion-drilling\n",
      "http://linked.data.gov.au/def/borehole-drilling-method/air-core\n",
      "http://linked.data.gov.au/def/borehole-drilling-method/cable-tool-drilling\n",
      "http://linked.data.gov.au/def/borehole-drilling-method/geoprobe-core\n",
      "http://linked.data.gov.au/def/borehole-drilling-method\n",
      "http://linked.data.gov.au/def/borehole-drilling-method/delft-sampler\n",
      "http://linked.data.gov.au/def/borehole-drilling-method/delft-sampler\n",
      "http://linked.data.gov.au/def/borehole-drilling-method/hand-auger\n",
      "http://linked.data.gov.au/def/borehole-drilling-method/cable-tool-drilling\n",
      "http://linked.data.gov.au/def/borehole-drilling-method/probe\n",
      "http://linked.data.gov.au/def/borehole-drilling-method/sidewall-core-bullet\n",
      "http://linked.data.gov.au/def/borehole-drilling-method/hand-auger\n",
      "http://linked.data.gov.au/def/borehole-drilling-method/mackintosh-probe\n",
      "http://linked.data.gov.au/def/borehole-drilling-method/delft-sampler\n",
      "http://linked.data.gov.au/def/borehole-drilling-method/cone-penetrometer-test-probe\n",
      "http://linked.data.gov.au/def/borehole-drilling-method/auger\n",
      "http://linked.data.gov.au/def/borehole-drilling-method/direct-push\n",
      "http://linked.data.gov.au/def/borehole-drilling-method/conventional-core\n",
      "http://linked.data.gov.au/def/borehole-drilling-method/kastern-core\n",
      "http://linked.data.gov.au/def/borehole-drilling-method/reverse-circulation-drilling\n",
      "http://linked.data.gov.au/def/borehole-drilling-method/hydraulic-rotary-drilling\n",
      "http://linked.data.gov.au/def/borehole-drilling-method/core-drilling\n",
      "http://linked.data.gov.au/def/borehole-drilling-method/direct-push\n",
      "http://linked.data.gov.au/def/borehole-drilling-method/power-auger\n",
      "http://linked.data.gov.au/def/borehole-drilling-method/direct-push\n",
      "http://linked.data.gov.au/def/borehole-drilling-method\n",
      "http://linked.data.gov.au/def/borehole-drilling-method/kastern-core\n",
      "http://linked.data.gov.au/def/borehole-drilling-method/sidewall-core-mechanical\n",
      "http://linked.data.gov.au/def/borehole-drilling-method/hydraulic-rotary-drilling\n",
      "http://linked.data.gov.au/def/borehole-drilling-method/rab-drilling\n",
      "http://linked.data.gov.au/def/borehole-drilling-method\n",
      "http://linked.data.gov.au/def/borehole-drilling-method/air-core\n",
      "http://linked.data.gov.au/def/borehole-drilling-method/mackereth-core\n",
      "http://linked.data.gov.au/def/borehole-drilling-method/diamond-core\n",
      "http://linked.data.gov.au/def/borehole-drilling-method/air-core\n",
      "http://linked.data.gov.au/def/borehole-drilling-method/rotary-hammer-drilling\n",
      "http://linked.data.gov.au/def/borehole-drilling-method/rotary-hammer-drilling\n",
      "http://linked.data.gov.au/def/borehole-drilling-method/mackintosh-probe\n",
      "http://linked.data.gov.au/def/borehole-drilling-method/kastern-core\n",
      "http://linked.data.gov.au/def/borehole-drilling-method/geoprobe-core\n",
      "http://linked.data.gov.au/def/borehole-drilling-method/auger\n",
      "http://linked.data.gov.au/def/borehole-drilling-method/sidewall-core-bullet\n",
      "http://linked.data.gov.au/def/borehole-drilling-method/mackintosh-probe\n",
      "http://linked.data.gov.au/def/borehole-drilling-method/reverse-circulation-drilling\n",
      "http://linked.data.gov.au/def/borehole-drilling-method/diamond-core\n",
      "http://linked.data.gov.au/org/gsq\n",
      "http://linked.data.gov.au/def/borehole-drilling-method/core-drilling\n",
      "http://linked.data.gov.au/def/borehole-drilling-method/sidewall-core\n",
      "http://linked.data.gov.au/def/borehole-drilling-method\n",
      "http://linked.data.gov.au/def/borehole-drilling-method/gravity-core\n",
      "http://linked.data.gov.au/def/borehole-drilling-method/piston-core\n",
      "http://linked.data.gov.au/def/borehole-drilling-method/probe\n",
      "http://linked.data.gov.au/def/borehole-drilling-method/sidewall-core\n",
      "http://linked.data.gov.au/def/borehole-drilling-method/cable-tool-drilling\n",
      "http://linked.data.gov.au/def/borehole-drilling-method\n",
      "http://linked.data.gov.au/def/borehole-drilling-method/cable-tool-drilling\n",
      "http://linked.data.gov.au/def/borehole-drilling-method/percussion-drilling\n",
      "http://linked.data.gov.au/def/borehole-drilling-method/gravity-core\n",
      "http://linked.data.gov.au/def/borehole-drilling-method/power-auger\n",
      "http://linked.data.gov.au/def/borehole-drilling-method/diamond-core\n",
      "http://linked.data.gov.au/def/borehole-drilling-method/auger\n",
      "http://linked.data.gov.au/def/borehole-drilling-method/percussion-drilling\n",
      "http://linked.data.gov.au/def/borehole-drilling-method/delft-sampler\n",
      "http://linked.data.gov.au/def/borehole-drilling-method/piston-core\n",
      "http://linked.data.gov.au/def/borehole-drilling-method/piston-core\n",
      "http://linked.data.gov.au/def/borehole-drilling-method/conventional-core\n",
      "http://linked.data.gov.au/def/borehole-drilling-method/gravity-core\n",
      "http://linked.data.gov.au/def/borehole-drilling-method\n",
      "http://linked.data.gov.au/def/borehole-drilling-method/power-auger\n",
      "http://linked.data.gov.au/def/borehole-drilling-method/mackintosh-probe\n",
      "http://linked.data.gov.au/def/borehole-drilling-method/cable-tool-drilling\n",
      "http://linked.data.gov.au/def/borehole-drilling-method/reverse-circulation-drilling\n",
      "http://linked.data.gov.au/def/borehole-drilling-method/cone-penetrometer-test-probe\n",
      "http://linked.data.gov.au/def/borehole-drilling-method/geoprobe-core\n",
      "http://linked.data.gov.au/def/borehole-drilling-method/core-drilling\n",
      "http://linked.data.gov.au/def/borehole-drilling-method/percussion-drilling\n",
      "http://linked.data.gov.au/def/borehole-drilling-method/gravity-core\n",
      "http://linked.data.gov.au/def/borehole-drilling-method/hand-auger\n",
      "http://linked.data.gov.au/org/gsq\n",
      "http://linked.data.gov.au/def/borehole-drilling-method/probe\n",
      "http://linked.data.gov.au/def/borehole-drilling-method/sidewall-core\n",
      "http://linked.data.gov.au/def/borehole-drilling-method/conventional-core\n",
      "http://linked.data.gov.au/def/borehole-drilling-method/gravity-core\n",
      "http://linked.data.gov.au/def/borehole-drilling-method/cone-penetrometer-test-probe\n",
      "http://linked.data.gov.au/def/borehole-drilling-method/diamond-core\n",
      "http://linked.data.gov.au/def/borehole-drilling-method/probe\n",
      "http://linked.data.gov.au/def/borehole-drilling-method/reverse-circulation-drilling\n",
      "http://linked.data.gov.au/def/borehole-drilling-method/auger\n",
      "http://linked.data.gov.au/def/borehole-drilling-method/rab-drilling\n",
      "http://linked.data.gov.au/def/borehole-drilling-method/vibrocore\n",
      "http://linked.data.gov.au/def/borehole-drilling-method/kastern-core\n",
      "http://linked.data.gov.au/def/borehole-drilling-method\n",
      "http://linked.data.gov.au/def/borehole-drilling-method/window-sampler\n",
      "http://linked.data.gov.au/def/borehole-drilling-method\n",
      "http://linked.data.gov.au/def/borehole-drilling-method\n",
      "http://linked.data.gov.au/def/borehole-drilling-method/probe\n",
      "http://linked.data.gov.au/def/borehole-drilling-method/sidewall-core-mechanical\n",
      "http://linked.data.gov.au/def/borehole-drilling-method/power-auger\n",
      "http://linked.data.gov.au/def/borehole-drilling-method/sidewall-core-bullet\n",
      "http://linked.data.gov.au/def/borehole-drilling-method/hydraulic-rotary-drilling\n",
      "http://linked.data.gov.au/def/borehole-drilling-method\n",
      "http://linked.data.gov.au/def/borehole-drilling-method/rab-drilling\n",
      "http://linked.data.gov.au/def/borehole-drilling-method\n",
      "http://linked.data.gov.au/def/borehole-drilling-method\n",
      "http://linked.data.gov.au/def/borehole-drilling-method/sidewall-core-mechanical\n",
      "http://linked.data.gov.au/def/borehole-drilling-method/mackereth-core\n",
      "http://linked.data.gov.au/def/borehole-drilling-method/rotary-hammer-drilling\n",
      "http://linked.data.gov.au/def/borehole-drilling-method/piston-core\n",
      "http://linked.data.gov.au/def/borehole-drilling-method/probe\n",
      "http://linked.data.gov.au/def/borehole-drilling-method/geoprobe-core\n",
      "http://linked.data.gov.au/def/borehole-drilling-method/rotary-hammer-drilling\n",
      "http://linked.data.gov.au/def/borehole-drilling-method/mackereth-core\n",
      "http://linked.data.gov.au/def/borehole-drilling-method/hydraulic-rotary-drilling\n",
      "http://linked.data.gov.au/def/borehole-drilling-method/box-core\n",
      "http://linked.data.gov.au/def/borehole-drilling-method/cone-penetrometer-test-probe\n",
      "http://linked.data.gov.au/def/borehole-drilling-method/mackereth-core\n",
      "http://linked.data.gov.au/def/borehole-drilling-method/rotary-hammer-drilling\n",
      "http://linked.data.gov.au/def/borehole-drilling-method/percussion-drilling\n",
      "http://linked.data.gov.au/def/borehole-drilling-method/sonic\n",
      "http://linked.data.gov.au/def/borehole-drilling-method/window-sampler\n",
      "http://linked.data.gov.au/def/borehole-drilling-method/mackintosh-probe\n",
      "http://linked.data.gov.au/def/borehole-drilling-method/direct-push\n",
      "http://linked.data.gov.au/def/borehole-drilling-method/hand-auger\n",
      "http://linked.data.gov.au/def/borehole-drilling-method/box-core\n",
      "http://linked.data.gov.au/def/borehole-drilling-method/sonic\n",
      "http://linked.data.gov.au/def/borehole-drilling-method\n",
      "http://linked.data.gov.au/def/borehole-drilling-method/window-sampler\n",
      "http://linked.data.gov.au/def/borehole-drilling-method/delft-sampler\n",
      "http://linked.data.gov.au/def/borehole-drilling-method/core-drilling\n",
      "http://linked.data.gov.au/def/borehole-drilling-method/sidewall-core\n",
      "http://linked.data.gov.au/def/borehole-drilling-method/window-sampler\n",
      "http://linked.data.gov.au/def/borehole-drilling-method/vibrocore\n",
      "http://linked.data.gov.au/def/borehole-drilling-method/air-core\n",
      "http://linked.data.gov.au/def/borehole-drilling-method/sidewall-core-bullet\n",
      "http://linked.data.gov.au/def/borehole-drilling-method/conventional-core\n",
      "http://linked.data.gov.au/def/borehole-drilling-method/reverse-circulation-drilling\n",
      "http://linked.data.gov.au/def/borehole-drilling-method/power-auger\n",
      "http://linked.data.gov.au/def/borehole-drilling-method/rab-drilling\n",
      "http://linked.data.gov.au/def/borehole-drilling-method\n",
      "http://linked.data.gov.au/def/borehole-drilling-method/piston-core\n",
      "http://linked.data.gov.au/def/borehole-drilling-method/hydraulic-rotary-drilling\n",
      "http://linked.data.gov.au/def/borehole-drilling-method/sidewall-core\n",
      "http://linked.data.gov.au/def/borehole-drilling-method\n",
      "http://linked.data.gov.au/def/borehole-drilling-method/conventional-core\n",
      "http://linked.data.gov.au/def/borehole-drilling-method\n",
      "http://linked.data.gov.au/def/borehole-drilling-method/sidewall-core\n",
      "http://linked.data.gov.au/def/borehole-drilling-method\n",
      "http://linked.data.gov.au/def/borehole-drilling-method/core-drilling\n",
      "http://linked.data.gov.au/def/borehole-drilling-method/vibrocore\n",
      "http://linked.data.gov.au/def/borehole-drilling-method/sonic\n",
      "http://linked.data.gov.au/def/borehole-drilling-method/core-drilling\n",
      "http://linked.data.gov.au/def/borehole-drilling-method/vibrocore\n",
      "http://linked.data.gov.au/def/borehole-drilling-method/box-core\n",
      "http://linked.data.gov.au/def/borehole-drilling-method/sidewall-core-mechanical\n",
      "http://linked.data.gov.au/def/borehole-drilling-method/mackereth-core\n",
      "http://linked.data.gov.au/def/borehole-drilling-method/box-core\n",
      "http://linked.data.gov.au/def/borehole-drilling-method/auger\n",
      "http://linked.data.gov.au/def/borehole-drilling-method/direct-push\n",
      "http://linked.data.gov.au/def/borehole-drilling-method/rab-drilling\n",
      "http://linked.data.gov.au/def/borehole-drilling-method\n",
      "http://linked.data.gov.au/def/borehole-drilling-method/sonic\n",
      "http://linked.data.gov.au/def/borehole-drilling-method/hydraulic-rotary-drilling\n",
      "http://linked.data.gov.au/def/borehole-drilling-method/cone-penetrometer-test-probe\n",
      "http://linked.data.gov.au/def/borehole-drilling-method/sonic\n",
      "http://linked.data.gov.au/def/borehole-drilling-method/sidewall-core-mechanical\n",
      "http://linked.data.gov.au/def/borehole-drilling-method/air-core\n",
      "http://linked.data.gov.au/def/borehole-drilling-method/box-core\n",
      "http://linked.data.gov.au/org/gsq\n",
      "http://linked.data.gov.au/def/borehole-drilling-method/diamond-core\n",
      "http://linked.data.gov.au/def/borehole-drilling-method/geoprobe-core\n",
      "http://linked.data.gov.au/def/borehole-drilling-method/air-core\n",
      "http://linked.data.gov.au/def/borehole-drilling-method/sidewall-core-bullet\n",
      "http://linked.data.gov.au/def/borehole-drilling-method/window-sampler\n",
      "http://linked.data.gov.au/def/borehole-drilling-method/box-core\n"
     ]
    }
   ],
   "source": [
    "for s, p, o in g.triples((None, None, None)):\n",
    "    print(s)"
   ]
  },
  {
   "cell_type": "markdown",
   "metadata": {
    "pycharm": {
     "name": "#%% md\n"
    }
   },
   "source": [
    "B.2. Getting just SKOS Concepts in the graph - filter by type\n",
    "First import namespaces from RDFlib"
   ]
  },
  {
   "cell_type": "code",
   "execution_count": 60,
   "metadata": {
    "pycharm": {
     "name": "#%%\n"
    }
   },
   "outputs": [
    {
     "name": "stdout",
     "output_type": "stream",
     "text": [
      "http://linked.data.gov.au/def/borehole-drilling-method/hand-auger\n",
      "http://linked.data.gov.au/def/borehole-drilling-method/window-sampler\n",
      "http://linked.data.gov.au/def/borehole-drilling-method/auger\n",
      "http://linked.data.gov.au/def/borehole-drilling-method/vibrocore\n",
      "http://linked.data.gov.au/def/borehole-drilling-method/sidewall-core-bullet\n",
      "http://linked.data.gov.au/def/borehole-drilling-method/diamond-core\n",
      "http://linked.data.gov.au/def/borehole-drilling-method/reverse-circulation-drilling\n",
      "http://linked.data.gov.au/def/borehole-drilling-method/core-drilling\n",
      "http://linked.data.gov.au/def/borehole-drilling-method/delft-sampler\n",
      "http://linked.data.gov.au/def/borehole-drilling-method/piston-core\n",
      "http://linked.data.gov.au/def/borehole-drilling-method/cable-tool-drilling\n",
      "http://linked.data.gov.au/def/borehole-drilling-method/gravity-core\n",
      "http://linked.data.gov.au/def/borehole-drilling-method/power-auger\n",
      "http://linked.data.gov.au/def/borehole-drilling-method/sidewall-core\n",
      "http://linked.data.gov.au/def/borehole-drilling-method/sidewall-core-mechanical\n",
      "http://linked.data.gov.au/def/borehole-drilling-method/conventional-core\n",
      "http://linked.data.gov.au/def/borehole-drilling-method/geoprobe-core\n",
      "http://linked.data.gov.au/def/borehole-drilling-method/rotary-hammer-drilling\n",
      "http://linked.data.gov.au/def/borehole-drilling-method/mackintosh-probe\n",
      "http://linked.data.gov.au/def/borehole-drilling-method/hydraulic-rotary-drilling\n",
      "http://linked.data.gov.au/def/borehole-drilling-method/direct-push\n",
      "http://linked.data.gov.au/def/borehole-drilling-method/kastern-core\n",
      "http://linked.data.gov.au/def/borehole-drilling-method/percussion-drilling\n",
      "http://linked.data.gov.au/def/borehole-drilling-method/rab-drilling\n",
      "http://linked.data.gov.au/def/borehole-drilling-method/box-core\n",
      "http://linked.data.gov.au/def/borehole-drilling-method/air-core\n",
      "http://linked.data.gov.au/def/borehole-drilling-method/sonic\n",
      "http://linked.data.gov.au/def/borehole-drilling-method/mackereth-core\n",
      "http://linked.data.gov.au/def/borehole-drilling-method/probe\n",
      "http://linked.data.gov.au/def/borehole-drilling-method/cone-penetrometer-test-probe\n"
     ]
    }
   ],
   "source": [
    "from rdflib.namespace import RDF, SKOS\n",
    "\n",
    "for s, p, o in g.triples((None, RDF.type, SKOS.Concept)):\n",
    "    print(s)"
   ]
  },
  {
   "cell_type": "markdown",
   "metadata": {},
   "source": [
    "B.3. Print out labels for Concepts, not their URIs"
   ]
  },
  {
   "cell_type": "code",
   "execution_count": 61,
   "metadata": {
    "pycharm": {
     "name": "#%%\n"
    }
   },
   "outputs": [
    {
     "name": "stdout",
     "output_type": "stream",
     "text": [
      "Hand Auger\n",
      "Window Sampler\n",
      "Auger\n",
      "Vibrocore\n",
      "Sidewall Core Bullet\n",
      "Diamond Core\n",
      "Reverse Circulation Drilling\n",
      "Core Drilling\n",
      "Delft Sampler\n",
      "Piston Core\n",
      "Cable Tool Drilling\n",
      "Gravity Core\n",
      "Power Auger\n",
      "Sidewall Core\n",
      "Sidewall Core Mechanical\n",
      "Conventional Core\n",
      "Geoprobe Core\n",
      "Rotary Hammer Drilling\n",
      "Mackintosh Probe\n",
      "Hydraulic Rotary Drilling\n",
      "Direct Push\n",
      "Kastern Core\n",
      "Percussion Drilling\n",
      "Rab Drilling\n",
      "Box Core\n",
      "Air Core\n",
      "Sonic\n",
      "Mackereth Core\n",
      "Probe\n",
      "Cone Penetrometer Test Probe\n"
     ]
    }
   ],
   "source": [
    "for s, p, o in g.triples((None, RDF.type, SKOS.Concept)):\n",
    "    for s2, p2, o2 in g.triples((s, SKOS.prefLabel, None)):\n",
    "        print(o2)"
   ]
  },
  {
   "cell_type": "markdown",
   "metadata": {},
   "source": [
    "B.4. Print out only Concepts with \"Core\" in the label"
   ]
  },
  {
   "cell_type": "code",
   "execution_count": 62,
   "metadata": {
    "pycharm": {
     "name": "#%%\n"
    }
   },
   "outputs": [
    {
     "name": "stdout",
     "output_type": "stream",
     "text": [
      "Sidewall Core Bullet\n",
      "Diamond Core\n",
      "Core Drilling\n",
      "Piston Core\n",
      "Gravity Core\n",
      "Sidewall Core\n",
      "Sidewall Core Mechanical\n",
      "Conventional Core\n",
      "Geoprobe Core\n",
      "Kastern Core\n",
      "Box Core\n",
      "Air Core\n",
      "Mackereth Core\n"
     ]
    }
   ],
   "source": [
    "for s, p, o in g.triples((None, RDF.type, SKOS.Concept)):\n",
    "    for s2, p2, o2 in g.triples((s, SKOS.prefLabel, None)):\n",
    "        if \"Core\" in str(o2):\n",
    "            print(o2)"
   ]
  },
  {
   "cell_type": "markdown",
   "metadata": {},
   "source": [
    "## C. SPARQL querying graphs\n",
    "\n",
    "Emulating the last query above - Concepts with \"Core\" in the label\n",
    "\n",
    "C.1. Formulate the query"
   ]
  },
  {
   "cell_type": "code",
   "execution_count": 63,
   "metadata": {
    "pycharm": {
     "name": "#%%\n"
    }
   },
   "outputs": [],
   "source": [
    "q = \"\"\"\n",
    "    PREFIX skos: <http://www.w3.org/2004/02/skos/core#>\n",
    "\n",
    "    SELECT ?uri ?pl\n",
    "    WHERE {\n",
    "        ?uri rdf:type skos:Concept .\n",
    "        ?uri skos:prefLabel ?pl .\n",
    "\n",
    "        FILTER REGEX(?pl, \"Core\")\n",
    "    }\n",
    "    ORDER BY ?pl\n",
    "    \"\"\""
   ]
  },
  {
   "cell_type": "markdown",
   "metadata": {
    "pycharm": {
     "name": "#%% md\n"
    }
   },
   "source": [
    "C.2. Pose the query to the graph"
   ]
  },
  {
   "cell_type": "code",
   "execution_count": 64,
   "metadata": {
    "pycharm": {
     "name": "#%%\n"
    }
   },
   "outputs": [],
   "source": [
    "results =  g.query(q)"
   ]
  },
  {
   "cell_type": "markdown",
   "metadata": {},
   "source": [
    "C.3. Loop through results and print"
   ]
  },
  {
   "cell_type": "code",
   "execution_count": 65,
   "metadata": {
    "pycharm": {
     "name": "#%%\n"
    }
   },
   "outputs": [
    {
     "name": "stdout",
     "output_type": "stream",
     "text": [
      "http://linked.data.gov.au/def/borehole-drilling-method/air-core Air Core\n",
      "http://linked.data.gov.au/def/borehole-drilling-method/box-core Box Core\n",
      "http://linked.data.gov.au/def/borehole-drilling-method/conventional-core Conventional Core\n",
      "http://linked.data.gov.au/def/borehole-drilling-method/core-drilling Core Drilling\n",
      "http://linked.data.gov.au/def/borehole-drilling-method/diamond-core Diamond Core\n",
      "http://linked.data.gov.au/def/borehole-drilling-method/geoprobe-core Geoprobe Core\n",
      "http://linked.data.gov.au/def/borehole-drilling-method/gravity-core Gravity Core\n",
      "http://linked.data.gov.au/def/borehole-drilling-method/kastern-core Kastern Core\n",
      "http://linked.data.gov.au/def/borehole-drilling-method/mackereth-core Mackereth Core\n",
      "http://linked.data.gov.au/def/borehole-drilling-method/piston-core Piston Core\n",
      "http://linked.data.gov.au/def/borehole-drilling-method/sidewall-core Sidewall Core\n",
      "http://linked.data.gov.au/def/borehole-drilling-method/sidewall-core-bullet Sidewall Core Bullet\n",
      "http://linked.data.gov.au/def/borehole-drilling-method/sidewall-core-mechanical Sidewall Core Mechanical\n"
     ]
    }
   ],
   "source": [
    "for r in results:\n",
    "     print(str(r[\"uri\"]), str(r[\"pl\"]))"
   ]
  },
  {
   "cell_type": "markdown",
   "metadata": {},
   "source": [
    "## D. Namespaces\n",
    "\n",
    "D.1. Remove all triples from the graph"
   ]
  },
  {
   "cell_type": "code",
   "execution_count": 66,
   "metadata": {
    "pycharm": {
     "name": "#%%\n"
    }
   },
   "outputs": [
    {
     "name": "stdout",
     "output_type": "stream",
     "text": [
      "0\n"
     ]
    }
   ],
   "source": [
    "g.remove((None, None, None))  # removal with no filter, so all triples gone!\n",
    "print(len(g))  # should print zero\n",
    "\n",
    "# can also close graph\n",
    "g.close()\n",
    "\n",
    "# or do normal reset\n",
    "g = Graph()"
   ]
  },
  {
   "cell_type": "markdown",
   "metadata": {},
   "source": [
    "D.2. Add data to the new, empty, graph by loading text RDF in the Turtle format but not very neatly written"
   ]
  },
  {
   "cell_type": "code",
   "execution_count": 67,
   "metadata": {
    "pycharm": {
     "name": "#%%\n"
    }
   },
   "outputs": [
    {
     "name": "stdout",
     "output_type": "stream",
     "text": [
      "3\n"
     ]
    }
   ],
   "source": [
    "data = \"\"\"\n",
    "        <http://example.com/p1> a <http://example.com/Person> .\n",
    "        <http://example.com/p1> <http://example.com/name> \"Nick\"@en .\n",
    "        <http://example.com/p1> <http://example.com/name> \"Mikolajek\"@pl .\n",
    "        \"\"\"\n",
    "g.parse(data=data, format=\"turtle\")\n",
    "print(len(g))  # should print 3\n"
   ]
  },
  {
   "cell_type": "markdown",
   "metadata": {},
   "source": [
    "D.3. Serialize graph back as Turtle, see the compressed form"
   ]
  },
  {
   "cell_type": "code",
   "execution_count": null,
   "metadata": {
    "pycharm": {
     "is_executing": true,
     "name": "#%%\n"
    }
   },
   "outputs": [],
   "source": [
    "print(g.serialize(format=\"turtle\").decode())\n"
   ]
  },
  {
   "cell_type": "markdown",
   "metadata": {},
   "source": [
    "D.4. Import Namespace from RDFlib and declare a test namespace"
   ]
  },
  {
   "cell_type": "code",
   "execution_count": null,
   "metadata": {
    "pycharm": {
     "is_executing": true,
     "name": "#%%\n"
    }
   },
   "outputs": [],
   "source": [
    "g = Graph()\n",
    "from rdflib import Namespace\n",
    "EG = Namespace(\"http://example.com/\")"
   ]
  },
  {
   "cell_type": "markdown",
   "metadata": {},
   "source": [
    "D.5. Bind this namespace to a prefix for this graph - this must be done per-graph"
   ]
  },
  {
   "cell_type": "code",
   "execution_count": null,
   "metadata": {
    "pycharm": {
     "is_executing": true,
     "name": "#%%\n"
    }
   },
   "outputs": [],
   "source": [
    "g = Graph()\n",
    "g.bind(\"eg\", EG)\n",
    "data = \"\"\"\n",
    "        <http://example.com/p1> a <http://example.com/Person> .\n",
    "        <http://example.com/p1> <http://example.com/name> \"Nick\"@en .\n",
    "        <http://example.com/p1> <http://example.com/name> \"Mikolajek\"@pl .\n",
    "        \"\"\"\n",
    "g.parse(data=data, format=\"turtle\")"
   ]
  },
  {
   "cell_type": "markdown",
   "metadata": {},
   "source": [
    "D.6. Serialize graph again, now notice the Namespace prefix \"eg\" in use"
   ]
  },
  {
   "cell_type": "code",
   "execution_count": 71,
   "metadata": {
    "pycharm": {
     "name": "#%%\n"
    }
   },
   "outputs": [
    {
     "name": "stdout",
     "output_type": "stream",
     "text": [
      "@prefix ns1: <http://example.com/> .\n",
      "\n",
      "ns1:p1 a ns1:Person ;\n",
      "    ns1:name \"Nick\"@en,\n",
      "        \"Mikolajek\"@pl .\n",
      "\n",
      "\n"
     ]
    }
   ],
   "source": [
    "print(g.serialize(format=\"turtle\").decode())\n"
   ]
  },
  {
   "cell_type": "markdown",
   "metadata": {},
   "source": [
    "## E. Creating data\n",
    "\n",
    "E.1. Reset graph"
   ]
  },
  {
   "cell_type": "code",
   "execution_count": 36,
   "metadata": {
    "pycharm": {
     "is_executing": true,
     "name": "#%%\n"
    }
   },
   "outputs": [
    {
     "name": "stdout",
     "output_type": "stream",
     "text": [
      "0\n"
     ]
    }
   ],
   "source": [
    "g = Graph()  # reset graph\n",
    "g.bind(\"eg\", EG)\n",
    "print(len(g))  # should print 0"
   ]
  },
  {
   "cell_type": "markdown",
   "metadata": {
    "pycharm": {
     "name": "#%% md\n"
    }
   },
   "source": [
    "E.2. Import URIRef & Literal - RDFlib classes for RDF things"
   ]
  },
  {
   "cell_type": "code",
   "execution_count": 37,
   "metadata": {
    "pycharm": {
     "name": "#%%\n"
    }
   },
   "outputs": [],
   "source": [
    "from rdflib import URIRef, Literal"
   ]
  },
  {
   "cell_type": "markdown",
   "metadata": {},
   "source": [
    "E.3. Create triple by triple - the data above"
   ]
  },
  {
   "cell_type": "code",
   "execution_count": 38,
   "metadata": {
    "pycharm": {
     "name": "#%%\n"
    }
   },
   "outputs": [
    {
     "name": "stdout",
     "output_type": "stream",
     "text": [
      "@prefix eg: <http://example.com/> .\n",
      "\n",
      "eg:p1 a eg:Person ;\n",
      "    eg:name \"Nick\"@en,\n",
      "        \"Mikolajek\"@pl .\n",
      "\n",
      "\n"
     ]
    }
   ],
   "source": [
    "g.add((\n",
    "    URIRef(\"http://example.com/p1\"),    # subject\n",
    "    RDF.type,                           # predicate, same as 'a'\n",
    "    URIRef(\"http://example.com/Person\")\n",
    "))\n",
    "g.add((URIRef(\"http://example.com/p1\"), URIRef(\"http://example.com/name\"), Literal(\"Nick\", lang=\"en\")))\n",
    "g.add((\n",
    "    EG.p1,\n",
    "    EG.name,\n",
    "    Literal(\"Mikolajek\", lang=\"pl\")\n",
    "))\n",
    "print(g.serialize(format=\"turtle\").decode())"
   ]
  },
  {
   "cell_type": "markdown",
   "metadata": {
    "pycharm": {
     "name": "#%% md\n"
    }
   },
   "source": [
    "E.4. Remove just the triple for the Polish name Mikolajek and re-serialise contents"
   ]
  },
  {
   "cell_type": "code",
   "execution_count": 39,
   "metadata": {
    "pycharm": {
     "name": "#%%\n"
    }
   },
   "outputs": [
    {
     "name": "stdout",
     "output_type": "stream",
     "text": [
      "@prefix eg: <http://example.com/> .\n",
      "\n",
      "eg:p1 a eg:Person ;\n",
      "    eg:name \"Nick\"@en .\n",
      "\n",
      "\n"
     ]
    }
   ],
   "source": [
    "g.remove((\n",
    "    EG.p1,\n",
    "    EG.name,\n",
    "    Literal(\"Mikolajek\", lang=\"pl\")\n",
    "))\n",
    "print(g.serialize(format=\"turtle\").decode())"
   ]
  },
  {
   "cell_type": "markdown",
   "metadata": {
    "pycharm": {
     "name": "#%% md\n"
    }
   },
   "source": [
    "## F. Merging graphs\n",
    "\n",
    "F.1. Create a new graph, g2, and put in some data with a subject URI in common with our existing data, EG.p1"
   ]
  },
  {
   "cell_type": "code",
   "execution_count": null,
   "outputs": [],
   "source": [
    "from rdflib.namespace import XSD\n",
    "\n",
    "g2 = Graph()\n",
    "g2.add((\n",
    "    EG.p1,\n",
    "    EG.birthdate,\n",
    "    Literal(\"1982-05-11\", datatype=XSD.date)\n",
    "))\n",
    "g2.add((\n",
    "    EG.p1,\n",
    "    EG.age,\n",
    "    Literal(\"38\", datatype=XSD.integer)\n",
    "))\n",
    "print(g2.serialize(format=\"turtle\").decode())"
   ],
   "metadata": {
    "collapsed": false,
    "pycharm": {
     "name": "#%%\n"
    }
   }
  },
  {
   "cell_type": "markdown",
   "source": [
    "F.2. Merge the contents of g & g2 by adding the graphs"
   ],
   "metadata": {
    "collapsed": false
   }
  },
  {
   "cell_type": "code",
   "execution_count": null,
   "outputs": [],
   "source": [
    "print(\"No. triples in g: {}\".format(len(g)))\n",
    "print(\"No. triples in g2: {}\".format(len(g2)))\n",
    "g3 = g + g2\n",
    "print(\"No. triples in g3: {}\".format(len(g3)))"
   ],
   "metadata": {
    "collapsed": false,
    "pycharm": {
     "name": "#%%\n"
    }
   }
  },
  {
   "cell_type": "markdown",
   "source": [
    "F.3. Print the merged graph"
   ],
   "metadata": {
    "collapsed": false
   }
  },
  {
   "cell_type": "code",
   "execution_count": null,
   "outputs": [],
   "source": [
    "g3.bind(\"eg\", EG)\n",
    "print(g3.serialize(format=\"turtle\").decode())"
   ],
   "metadata": {
    "collapsed": false,
    "pycharm": {
     "name": "#%%\n"
    }
   }
  }
 ],
 "metadata": {
  "kernelspec": {
   "display_name": "Python 3",
   "language": "python",
   "name": "python3"
  },
  "language_info": {
   "codemirror_mode": {
    "name": "ipython",
    "version": 3
   },
   "file_extension": ".py",
   "mimetype": "text/x-python",
   "name": "python",
   "nbconvert_exporter": "python",
   "pygments_lexer": "ipython3",
   "version": "3.7.3"
  }
 },
 "nbformat": 4,
 "nbformat_minor": 1
}