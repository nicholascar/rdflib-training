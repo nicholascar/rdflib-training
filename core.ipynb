{
 "cells": [
  {
   "cell_type": "markdown",
   "metadata": {},
   "source": [
    "# RDFlib Core\n",
    "### A notebook demonstrating basic core functionality of the RDFlib toolkit\n",
    "\n",
    "Parts:\n",
    "\n",
    "* A. Loading & Serializing\n",
    "* B. Native RDFlib accessing of graph data\n",
    "* C. SPARQL querying graphs\n",
    "* D. Namespaces\n",
    "* E. Creating data\n",
    "* F. Merging graphs\n",
    "\n",
    "\n",
    "## A. Loading & Serializing\n",
    "A.1. Import the main rdflib class, Graph"
   ]
  },
  {
   "cell_type": "code",
   "execution_count": null,
   "metadata": {
    "pycharm": {
     "name": "#%%\n"
    }
   },
   "outputs": [],
   "source": [
    "from rdflib import Graph"
   ]
  },
  {
   "cell_type": "markdown",
   "metadata": {},
   "source": [
    "A.2. Create and load the graph from an RDF file"
   ]
  },
  {
   "cell_type": "code",
   "execution_count": null,
   "metadata": {
    "pycharm": {
     "name": "#%%\n"
    }
   },
   "outputs": [],
   "source": [
    "g = Graph()\n",
    "g.parse(\"data/bdm.ttl\", format=\"turtle\")"
   ]
  },
  {
   "cell_type": "markdown",
   "metadata": {
    "pycharm": {
     "name": "#%% md\n"
    }
   },
   "source": [
    "A.3. Print the number of triples in the graph - graph length - to confirm load"
   ]
  },
  {
   "cell_type": "code",
   "execution_count": null,
   "metadata": {
    "pycharm": {
     "name": "#%%\n"
    }
   },
   "outputs": [],
   "source": [
    "print(len(g))"
   ]
  },
  {
   "cell_type": "markdown",
   "metadata": {},
   "source": [
    "A.4. Load data from the web\n",
    "The RDF format is known from the Media Type returned in the HTTP headers"
   ]
  },
  {
   "cell_type": "code",
   "execution_count": null,
   "metadata": {
    "pycharm": {
     "name": "#%%\n"
    }
   },
   "outputs": [],
   "source": [
    "g2 = Graph()\n",
    "g2.parse(location=\"http://pid.geoscience.gov.au/sample/AU1000005?_view=igsn-o&_format=text/turtle\")\n",
    "print(g2.serialize(format=\"turtle\").decode())"
   ]
  },
  {
   "cell_type": "markdown",
   "metadata": {},
   "source": [
    "A.5. Serialize the in-memory graph using another RDF format (XML)"
   ]
  },
  {
   "cell_type": "code",
   "execution_count": null,
   "metadata": {
    "pycharm": {
     "name": "#%%\n"
    }
   },
   "outputs": [],
   "source": [
    "g.serialize(\"data/bdm.rdf\", format=\"xml\")"
   ]
  },
  {
   "cell_type": "markdown",
   "metadata": {},
   "source": [
    "A.6. Show the contents of the newly created file for comparison"
   ]
  },
  {
   "cell_type": "code",
   "execution_count": null,
   "metadata": {
    "pycharm": {
     "name": "#%%\n"
    }
   },
   "outputs": [],
   "source": [
    "with open(\"data/bdm.rdf\") as f:\n",
    "    print(f.read())"
   ]
  },
  {
   "cell_type": "markdown",
   "metadata": {},
   "source": [
    "## B. Native RDFlib accessing of graph data\n",
    "\n",
    "B.1. Loop through graph, printing the subjects of all triples - no filtering"
   ]
  },
  {
   "cell_type": "code",
   "execution_count": null,
   "metadata": {
    "pycharm": {
     "name": "#%%\n"
    }
   },
   "outputs": [],
   "source": [
    "for s, p, o in g.triples((None, None, None)):\n",
    "    print(s)"
   ]
  },
  {
   "cell_type": "markdown",
   "metadata": {
    "pycharm": {
     "name": "#%% md\n"
    }
   },
   "source": [
    "B.2. Getting just SKOS Concepts in the graph - filter by type\n",
    "First import namespaces from RDFlib"
   ]
  },
  {
   "cell_type": "code",
   "execution_count": null,
   "metadata": {
    "pycharm": {
     "name": "#%%\n"
    }
   },
   "outputs": [],
   "source": [
    "from rdflib.namespace import RDF, SKOS\n",
    "\n",
    "for s, p, o in g.triples((None, RDF.type, SKOS.Concept)):\n",
    "    print(s)"
   ]
  },
  {
   "cell_type": "markdown",
   "metadata": {},
   "source": [
    "B.3. Print out labels for Concepts, not their URIs"
   ]
  },
  {
   "cell_type": "code",
   "execution_count": null,
   "metadata": {
    "pycharm": {
     "name": "#%%\n"
    }
   },
   "outputs": [],
   "source": [
    "for s, p, o in g.triples((None, RDF.type, SKOS.Concept)):\n",
    "    for s2, p2, o2 in g.triples((s, SKOS.prefLabel, None)):\n",
    "        print(o2)"
   ]
  },
  {
   "cell_type": "markdown",
   "metadata": {},
   "source": [
    "B.4. Print out only Concepts with \"Core\" in the label"
   ]
  },
  {
   "cell_type": "code",
   "execution_count": null,
   "metadata": {
    "pycharm": {
     "name": "#%%\n"
    }
   },
   "outputs": [],
   "source": [
    "for s, p, o in g.triples((None, RDF.type, SKOS.Concept)):\n",
    "    for s2, p2, o2 in g.triples((s, SKOS.prefLabel, None)):\n",
    "        if \"Core\" in str(o2):\n",
    "            print(o2)"
   ]
  },
  {
   "cell_type": "markdown",
   "metadata": {},
   "source": [
    "## C. SPARQL querying graphs\n",
    "\n",
    "Emulating the last query above - Concepts with \"Core\" in the label\n",
    "\n",
    "C.1. Formulate the query"
   ]
  },
  {
   "cell_type": "code",
   "execution_count": null,
   "metadata": {
    "pycharm": {
     "name": "#%%\n"
    }
   },
   "outputs": [],
   "source": [
    "q = \"\"\"\n",
    "    PREFIX skos: <http://www.w3.org/2004/02/skos/core#>\n",
    "\n",
    "    SELECT ?uri ?pl\n",
    "    WHERE {\n",
    "        ?uri rdf:type skos:Concept .\n",
    "        ?uri skos:prefLabel ?pl .\n",
    "\n",
    "        FILTER REGEX(?pl, \"Core\")\n",
    "    }\n",
    "    ORDER BY ?pl\n",
    "    \"\"\""
   ]
  },
  {
   "cell_type": "markdown",
   "metadata": {
    "pycharm": {
     "name": "#%% md\n"
    }
   },
   "source": [
    "C.2. Pose the query to the graph"
   ]
  },
  {
   "cell_type": "code",
   "execution_count": null,
   "metadata": {
    "pycharm": {
     "name": "#%%\n"
    }
   },
   "outputs": [],
   "source": [
    "results =  g.query(q)"
   ]
  },
  {
   "cell_type": "markdown",
   "metadata": {},
   "source": [
    "C.3. Loop through results and print"
   ]
  },
  {
   "cell_type": "code",
   "execution_count": null,
   "metadata": {
    "pycharm": {
     "name": "#%%\n"
    }
   },
   "outputs": [],
   "source": [
    "for r in results:\n",
    "     print(str(r[\"uri\"]), str(r[\"pl\"]))"
   ]
  },
  {
   "cell_type": "markdown",
   "metadata": {},
   "source": [
    "## D. Namespaces\n",
    "\n",
    "D.1. Remove all triples from the graph"
   ]
  },
  {
   "cell_type": "code",
   "execution_count": null,
   "metadata": {
    "pycharm": {
     "name": "#%%\n"
    }
   },
   "outputs": [],
   "source": [
    "g.remove((None, None, None))  # removal with no filter, so all triples gone!\n",
    "print(len(g))  # should print zero\n",
    "\n",
    "# can also close graph\n",
    "g.close()\n",
    "\n",
    "# or do normal reset\n",
    "g = Graph()"
   ]
  },
  {
   "cell_type": "markdown",
   "metadata": {},
   "source": [
    "D.2. Add data to the new, empty, graph by loading text RDF in the Turtle format but not very neatly written"
   ]
  },
  {
   "cell_type": "code",
   "execution_count": null,
   "metadata": {
    "pycharm": {
     "name": "#%%\n"
    }
   },
   "outputs": [],
   "source": [
    "data = \"\"\"\n",
    "        <http://example.com/p1> a <http://example.com/Person> .\n",
    "        <http://example.com/p1> <http://example.com/name> \"Nick\"@en .\n",
    "        <http://example.com/p1> <http://example.com/name> \"Mikolajek\"@pl .\n",
    "        \"\"\"\n",
    "g.parse(data=data, format=\"turtle\")\n",
    "print(len(g))  # should print 3\n"
   ]
  },
  {
   "cell_type": "markdown",
   "metadata": {},
   "source": [
    "D.3. Serialize graph back as Turtle, see the compressed form"
   ]
  },
  {
   "cell_type": "code",
   "execution_count": null,
   "metadata": {
    "pycharm": {
     "name": "#%%\n"
    }
   },
   "outputs": [],
   "source": [
    "print(g.serialize(format=\"turtle\").decode())\n"
   ]
  },
  {
   "cell_type": "markdown",
   "metadata": {},
   "source": [
    "D.4. Import Namespace from RDFlib and declare a test namespace"
   ]
  },
  {
   "cell_type": "code",
   "execution_count": null,
   "metadata": {
    "pycharm": {
     "name": "#%%\n"
    }
   },
   "outputs": [],
   "source": [
    "g = Graph()\n",
    "from rdflib import Namespace\n",
    "EG = Namespace(\"http://example.com/\")"
   ]
  },
  {
   "cell_type": "markdown",
   "metadata": {},
   "source": [
    "D.5. Bind this namespace to a prefix for this graph - this must be done per-graph"
   ]
  },
  {
   "cell_type": "code",
   "execution_count": null,
   "metadata": {
    "pycharm": {
     "name": "#%%\n"
    }
   },
   "outputs": [],
   "source": [
    "g = Graph()\n",
    "g.bind(\"eg\", EG)\n",
    "data = \"\"\"\n",
    "        <http://example.com/p1> a <http://example.com/Person> .\n",
    "        <http://example.com/p1> <http://example.com/name> \"Nick\"@en .\n",
    "        <http://example.com/p1> <http://example.com/name> \"Mikolajek\"@pl .\n",
    "        \"\"\"\n",
    "g.parse(data=data, format=\"turtle\")"
   ]
  },
  {
   "cell_type": "markdown",
   "metadata": {},
   "source": [
    "D.6. Serialize graph again, now notice the Namespace prefix \"eg\" in use"
   ]
  },
  {
   "cell_type": "code",
   "execution_count": null,
   "metadata": {
    "pycharm": {
     "name": "#%%\n"
    }
   },
   "outputs": [],
   "source": [
    "print(g.serialize(format=\"turtle\").decode())\n"
   ]
  },
  {
   "cell_type": "markdown",
   "metadata": {},
   "source": [
    "## E. Creating data\n",
    "\n",
    "E.1. Reset graph"
   ]
  },
  {
   "cell_type": "code",
   "execution_count": null,
   "metadata": {
    "pycharm": {
     "name": "#%%\n"
    }
   },
   "outputs": [],
   "source": [
    "g = Graph()  # reset graph\n",
    "g.bind(\"eg\", EG)\n",
    "print(len(g))  # should print 0"
   ]
  },
  {
   "cell_type": "markdown",
   "metadata": {
    "pycharm": {
     "name": "#%% md\n"
    }
   },
   "source": [
    "E.2. Import URIRef & Literal - RDFlib classes for RDF things"
   ]
  },
  {
   "cell_type": "code",
   "execution_count": null,
   "metadata": {
    "pycharm": {
     "name": "#%%\n"
    }
   },
   "outputs": [],
   "source": [
    "from rdflib import URIRef, Literal"
   ]
  },
  {
   "cell_type": "markdown",
   "metadata": {},
   "source": [
    "E.3. Create triple by triple - the data above"
   ]
  },
  {
   "cell_type": "code",
   "execution_count": null,
   "metadata": {
    "pycharm": {
     "name": "#%%\n"
    }
   },
   "outputs": [],
   "source": [
    "g.add((\n",
    "    URIRef(\"http://example.com/p1\"),    # subject\n",
    "    RDF.type,                           # predicate, same as 'a'\n",
    "    URIRef(\"http://example.com/Person\")\n",
    "))\n",
    "g.add((URIRef(\"http://example.com/p1\"), URIRef(\"http://example.com/name\"), Literal(\"Nick\", lang=\"en\")))\n",
    "g.add((\n",
    "    EG.p1,\n",
    "    EG.name,\n",
    "    Literal(\"Mikolajek\", lang=\"pl\")\n",
    "))\n",
    "print(g.serialize(format=\"turtle\").decode())"
   ]
  },
  {
   "cell_type": "markdown",
   "metadata": {
    "pycharm": {
     "name": "#%% md\n"
    }
   },
   "source": [
    "E.4. Remove just the triple for the Polish name Mikolajek and re-serialise contents"
   ]
  },
  {
   "cell_type": "code",
   "execution_count": null,
   "metadata": {
    "pycharm": {
     "name": "#%%\n"
    }
   },
   "outputs": [],
   "source": [
    "g.remove((\n",
    "    EG.p1,\n",
    "    EG.name,\n",
    "    Literal(\"Mikolajek\", lang=\"pl\")\n",
    "))\n",
    "print(g.serialize(format=\"turtle\").decode())"
   ]
  },
  {
   "cell_type": "markdown",
   "metadata": {
    "pycharm": {
     "name": "#%% md\n"
    }
   },
   "source": [
    "## F. Merging graphs\n",
    "\n",
    "F.1. Create a new graph, g2, and put in some data with a subject URI in common with our existing data, EG.p1"
   ]
  },
  {
   "cell_type": "code",
   "execution_count": null,
   "metadata": {
    "pycharm": {
     "name": "#%%\n"
    }
   },
   "outputs": [],
   "source": [
    "from rdflib.namespace import XSD\n",
    "\n",
    "g2 = Graph()\n",
    "g2.add((\n",
    "    EG.p1,\n",
    "    EG.birthdate,\n",
    "    Literal(\"1982-05-11\", datatype=XSD.date)\n",
    "))\n",
    "g2.add((\n",
    "    EG.p1,\n",
    "    EG.age,\n",
    "    Literal(\"38\", datatype=XSD.integer)\n",
    "))\n",
    "print(g2.serialize(format=\"turtle\").decode())"
   ]
  },
  {
   "cell_type": "markdown",
   "metadata": {},
   "source": [
    "F.2. Merge the contents of g & g2 by adding the graphs"
   ]
  },
  {
   "cell_type": "code",
   "execution_count": null,
   "metadata": {
    "pycharm": {
     "name": "#%%\n"
    }
   },
   "outputs": [],
   "source": [
    "print(\"No. triples in g: {}\".format(len(g)))\n",
    "print(\"No. triples in g2: {}\".format(len(g2)))\n",
    "g3 = g + g2\n",
    "print(\"No. triples in g3: {}\".format(len(g3)))"
   ]
  },
  {
   "cell_type": "markdown",
   "metadata": {},
   "source": [
    "F.3. Print the merged graph"
   ]
  },
  {
   "cell_type": "code",
   "execution_count": null,
   "metadata": {
    "pycharm": {
     "name": "#%%\n"
    }
   },
   "outputs": [],
   "source": [
    "g3.bind(\"eg\", EG)\n",
    "print(g3.serialize(format=\"turtle\").decode())"
   ]
  }
 ],
 "metadata": {
  "kernelspec": {
   "display_name": "Python 3",
   "language": "python",
   "name": "python3"
  },
  "language_info": {
   "codemirror_mode": {
    "name": "ipython",
    "version": 3
   },
   "file_extension": ".py",
   "mimetype": "text/x-python",
   "name": "python",
   "nbconvert_exporter": "python",
   "pygments_lexer": "ipython3",
   "version": "3.7.3"
  }
 },
 "nbformat": 4,
 "nbformat_minor": 1
}