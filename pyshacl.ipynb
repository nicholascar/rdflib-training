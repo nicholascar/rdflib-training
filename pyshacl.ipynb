{
 "cells": [
  {
   "cell_type": "markdown",
   "source": [
    "# RDFlib pySHACL\n",
    "### A notebook demonstrating basic pySHACL functionality - validating graphs according to \"shapes\"\n",
    "\n",
    "Parts:\n",
    "\n",
    "* A. Basic Validation\n",
    "* B. Validating the validator\n",
    "\n",
    "## A. Basic Validation\n",
    "A.1. A valid graph"
   ],
   "metadata": {
    "collapsed": false
   }
  },
  {
   "cell_type": "code",
   "execution_count": null,
   "outputs": [],
   "source": [
    "from pyshacl import validate\n",
    "\n",
    "conforms, results_graph, results_text = validate(\n",
    "    \"data/Access_Codes.ttl\",\n",
    "    shacl_graph=\"data/ga-skos-profile-validator.ttl\"\n",
    ")\n",
    "\n",
    "if conforms:\n",
    "    print(\"valid\")\n",
    "else:\n",
    "    print(results_text)"
   ],
   "metadata": {
    "collapsed": false,
    "pycharm": {
     "name": "#%%\n"
    }
   }
  },
  {
   "cell_type": "markdown",
   "source": [
    "A.2. An invalid graph - a Concept is missing a mandatory prefLabel"
   ],
   "metadata": {
    "collapsed": false
   }
  },
  {
   "cell_type": "code",
   "execution_count": null,
   "outputs": [],
   "source": [
    "conforms, results_graph, results_text = validate(\n",
    "    \"data/Access_Codes_invalid.ttl\",\n",
    "    shacl_graph=\"data/ga-skos-profile-validator.ttl\"\n",
    ")\n",
    "\n",
    "if conforms:\n",
    "    print(\"valid\")\n",
    "else:\n",
    "    print(results_text)"
   ],
   "metadata": {
    "collapsed": false,
    "pycharm": {
     "name": "#%%\n"
    }
   }
  },
  {
   "cell_type": "markdown",
   "source": [
    "A.3. An valid graph with a warning: note the 'Severity' of the errors"
   ],
   "metadata": {
    "collapsed": false
   }
  },
  {
   "cell_type": "code",
   "execution_count": null,
   "outputs": [],
   "source": [
    "conforms, results_graph, results_text = validate(\n",
    "    \"data/tenement-status.ttl\",\n",
    "    shacl_graph=\"data/ga-skos-profile-validator.ttl\"\n",
    ")\n",
    "\n",
    "if conforms:\n",
    "    print(\"valid\")\n",
    "else:\n",
    "    print(results_text)"
   ],
   "metadata": {
    "collapsed": false,
    "pycharm": {
     "name": "#%%\n"
    }
   }
  },
  {
   "cell_type": "markdown",
   "source": [
    "## B. Validating the validator\n",
    "\n",
    "B.1. You can validate the shapes graph using in-built SHACL validators for shapes before use"
   ],
   "metadata": {
    "collapsed": false
   }
  },
  {
   "cell_type": "code",
   "execution_count": null,
   "outputs": [],
   "source": [
    "from pyshacl import validate\n",
    "\n",
    "conforms, results_graph, results_text = validate(\n",
    "    \"data/Access_Codes_invalid.ttl\",\n",
    "    shacl_graph=\"data/mini-validator.ttl\",\n",
    "    # meta_shacl=True\n",
    ")\n",
    "\n",
    "if conforms:\n",
    "    print(\"valid\")\n",
    "else:\n",
    "    print(results_text)\n"
   ],
   "metadata": {
    "collapsed": false,
    "pycharm": {
     "name": "#%%\n"
    }
   }
  },
  {
   "cell_type": "markdown",
   "source": [
    "B.1. Invalid SHACL file\n",
    "\n",
    "Note no violation is reported for the data graph being validated, Access_Codes_invalid.ttl, as an invalid validator\n",
    "fails before validation of the data graph can occur. An invalid SHACL file with raise an error even if `meta_shacl`\n",
    "isn't set but, if it is set, a standard SHACL error will also be reported."
   ],
   "metadata": {
    "collapsed": false,
    "pycharm": {
     "name": "#%% md\n"
    }
   }
  },
  {
   "cell_type": "code",
   "execution_count": null,
   "outputs": [],
   "source": [
    "conforms, results_graph, results_text = validate(\n",
    "    \"data/Access_Codes.ttl\",\n",
    "    shacl_graph=\"data/mini-validator-invalid.ttl\",\n",
    "    meta_shacl=True\n",
    ")\n",
    "\n",
    "if conforms:\n",
    "    print(\"valid\")\n",
    "else:\n",
    "    print(results_text)"
   ],
   "metadata": {
    "collapsed": false,
    "pycharm": {
     "name": "#%%\n"
    }
   }
  },
  {
   "cell_type": "code",
   "execution_count": null,
   "outputs": [],
   "source": [],
   "metadata": {
    "collapsed": false,
    "pycharm": {
     "name": "#%%\n"
    }
   }
  }
 ],
 "metadata": {
  "kernelspec": {
   "display_name": "Python 3",
   "language": "python",
   "name": "python3"
  },
  "language_info": {
   "codemirror_mode": {
    "name": "ipython",
    "version": 2
   },
   "file_extension": ".py",
   "mimetype": "text/x-python",
   "name": "python",
   "nbconvert_exporter": "python",
   "pygments_lexer": "ipython2",
   "version": "2.7.6"
  }
 },
 "nbformat": 4,
 "nbformat_minor": 0
}